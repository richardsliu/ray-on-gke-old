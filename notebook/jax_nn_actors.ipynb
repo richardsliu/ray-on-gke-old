{
 "cells": [
  {
   "cell_type": "code",
   "execution_count": 1,
   "id": "857823be-243e-49a3-8868-57f2ffc202bc",
   "metadata": {
    "tags": []
   },
   "outputs": [
    {
     "name": "stdout",
     "output_type": "stream",
     "text": [
      "Requirement already satisfied: ray[default] in /opt/conda/lib/python3.10/site-packages (2.3.0)\n",
      "Requirement already satisfied: attrs in /opt/conda/lib/python3.10/site-packages (from ray[default]) (23.1.0)\n",
      "Requirement already satisfied: click>=7.0 in /opt/conda/lib/python3.10/site-packages (from ray[default]) (8.1.3)\n",
      "Requirement already satisfied: filelock in /opt/conda/lib/python3.10/site-packages (from ray[default]) (3.12.0)\n",
      "Requirement already satisfied: jsonschema in /opt/conda/lib/python3.10/site-packages (from ray[default]) (4.17.3)\n",
      "Requirement already satisfied: msgpack<2.0.0,>=1.0.0 in /opt/conda/lib/python3.10/site-packages (from ray[default]) (1.0.5)\n",
      "Requirement already satisfied: protobuf!=3.19.5,>=3.15.3 in /opt/conda/lib/python3.10/site-packages (from ray[default]) (4.21.12)\n",
      "Requirement already satisfied: pyyaml in /opt/conda/lib/python3.10/site-packages (from ray[default]) (6.0)\n",
      "Requirement already satisfied: aiosignal in /opt/conda/lib/python3.10/site-packages (from ray[default]) (1.3.1)\n",
      "Requirement already satisfied: frozenlist in /opt/conda/lib/python3.10/site-packages (from ray[default]) (1.3.3)\n",
      "Requirement already satisfied: requests in /opt/conda/lib/python3.10/site-packages (from ray[default]) (2.29.0)\n",
      "Requirement already satisfied: virtualenv>=20.0.24 in /opt/conda/lib/python3.10/site-packages (from ray[default]) (20.23.0)\n",
      "Requirement already satisfied: packaging in /opt/conda/lib/python3.10/site-packages (from ray[default]) (23.1)\n",
      "Requirement already satisfied: grpcio>=1.42.0 in /opt/conda/lib/python3.10/site-packages (from ray[default]) (1.51.1)\n",
      "Requirement already satisfied: numpy>=1.19.3 in /opt/conda/lib/python3.10/site-packages (from ray[default]) (1.23.5)\n",
      "Requirement already satisfied: aiohttp>=3.7 in /opt/conda/lib/python3.10/site-packages (from ray[default]) (3.7.4.post0)\n",
      "Collecting aiohttp-cors (from ray[default])\n",
      "  Using cached aiohttp_cors-0.7.0-py3-none-any.whl (27 kB)\n",
      "Collecting colorful (from ray[default])\n",
      "  Using cached colorful-0.5.5-py2.py3-none-any.whl (201 kB)\n",
      "Collecting py-spy>=0.2.0 (from ray[default])\n",
      "  Using cached py_spy-0.3.14-py2.py3-none-manylinux_2_5_x86_64.manylinux1_x86_64.whl (3.0 MB)\n",
      "Collecting gpustat>=1.0.0 (from ray[default])\n",
      "  Using cached gpustat-1.1-py3-none-any.whl\n",
      "Collecting opencensus (from ray[default])\n",
      "  Using cached opencensus-0.11.2-py2.py3-none-any.whl (128 kB)\n",
      "Collecting pydantic (from ray[default])\n",
      "  Downloading pydantic-1.10.8-cp310-cp310-manylinux_2_17_x86_64.manylinux2014_x86_64.whl (3.1 MB)\n",
      "\u001b[2K     \u001b[90m━━━━━━━━━━━━━━━━━━━━━━━━━━━━━━━━━━━━━━━━\u001b[0m \u001b[32m3.1/3.1 MB\u001b[0m \u001b[31m46.2 MB/s\u001b[0m eta \u001b[36m0:00:00\u001b[0ma \u001b[36m0:00:01\u001b[0m\n",
      "\u001b[?25hRequirement already satisfied: prometheus-client>=0.7.1 in /opt/conda/lib/python3.10/site-packages (from ray[default]) (0.16.0)\n",
      "Collecting smart-open (from ray[default])\n",
      "  Using cached smart_open-6.3.0-py3-none-any.whl (56 kB)\n",
      "Requirement already satisfied: chardet<5.0,>=2.0 in /opt/conda/lib/python3.10/site-packages (from aiohttp>=3.7->ray[default]) (4.0.0)\n",
      "Requirement already satisfied: multidict<7.0,>=4.5 in /opt/conda/lib/python3.10/site-packages (from aiohttp>=3.7->ray[default]) (6.0.4)\n",
      "Requirement already satisfied: async-timeout<4.0,>=3.0 in /opt/conda/lib/python3.10/site-packages (from aiohttp>=3.7->ray[default]) (3.0.1)\n",
      "Requirement already satisfied: yarl<2.0,>=1.0 in /opt/conda/lib/python3.10/site-packages (from aiohttp>=3.7->ray[default]) (1.9.1)\n",
      "Requirement already satisfied: typing-extensions>=3.6.5 in /opt/conda/lib/python3.10/site-packages (from aiohttp>=3.7->ray[default]) (4.5.0)\n",
      "Collecting nvidia-ml-py>=11.450.129 (from gpustat>=1.0.0->ray[default])\n",
      "  Using cached nvidia_ml_py-11.525.112-py3-none-any.whl (35 kB)\n",
      "Requirement already satisfied: psutil>=5.6.0 in /opt/conda/lib/python3.10/site-packages (from gpustat>=1.0.0->ray[default]) (5.9.5)\n",
      "Collecting blessed>=1.17.1 (from gpustat>=1.0.0->ray[default])\n",
      "  Using cached blessed-1.20.0-py2.py3-none-any.whl (58 kB)\n",
      "Requirement already satisfied: distlib<1,>=0.3.6 in /opt/conda/lib/python3.10/site-packages (from virtualenv>=20.0.24->ray[default]) (0.3.6)\n",
      "Requirement already satisfied: platformdirs<4,>=3.2 in /opt/conda/lib/python3.10/site-packages (from virtualenv>=20.0.24->ray[default]) (3.5.1)\n",
      "Requirement already satisfied: pyrsistent!=0.17.0,!=0.17.1,!=0.17.2,>=0.14.0 in /opt/conda/lib/python3.10/site-packages (from jsonschema->ray[default]) (0.19.3)\n",
      "Collecting opencensus-context>=0.1.3 (from opencensus->ray[default])\n",
      "  Using cached opencensus_context-0.1.3-py2.py3-none-any.whl (5.1 kB)\n",
      "Collecting google-api-core<3.0.0,>=1.0.0 (from opencensus->ray[default])\n",
      "  Using cached google_api_core-2.11.0-py3-none-any.whl (120 kB)\n",
      "Requirement already satisfied: charset-normalizer<4,>=2 in /opt/conda/lib/python3.10/site-packages (from requests->ray[default]) (3.1.0)\n",
      "Requirement already satisfied: idna<4,>=2.5 in /opt/conda/lib/python3.10/site-packages (from requests->ray[default]) (3.4)\n",
      "Requirement already satisfied: urllib3<1.27,>=1.21.1 in /opt/conda/lib/python3.10/site-packages (from requests->ray[default]) (1.26.15)\n",
      "Requirement already satisfied: certifi>=2017.4.17 in /opt/conda/lib/python3.10/site-packages (from requests->ray[default]) (2023.5.7)\n",
      "Requirement already satisfied: wcwidth>=0.1.4 in /opt/conda/lib/python3.10/site-packages (from blessed>=1.17.1->gpustat>=1.0.0->ray[default]) (0.2.6)\n",
      "Requirement already satisfied: six>=1.9.0 in /opt/conda/lib/python3.10/site-packages (from blessed>=1.17.1->gpustat>=1.0.0->ray[default]) (1.16.0)\n",
      "Collecting googleapis-common-protos<2.0dev,>=1.56.2 (from google-api-core<3.0.0,>=1.0.0->opencensus->ray[default])\n",
      "  Using cached googleapis_common_protos-1.59.0-py2.py3-none-any.whl (223 kB)\n",
      "Requirement already satisfied: google-auth<3.0dev,>=2.14.1 in /opt/conda/lib/python3.10/site-packages (from google-api-core<3.0.0,>=1.0.0->opencensus->ray[default]) (2.18.0)\n",
      "Requirement already satisfied: cachetools<6.0,>=2.0.0 in /opt/conda/lib/python3.10/site-packages (from google-auth<3.0dev,>=2.14.1->google-api-core<3.0.0,>=1.0.0->opencensus->ray[default]) (5.3.0)\n",
      "Requirement already satisfied: pyasn1-modules>=0.2.1 in /opt/conda/lib/python3.10/site-packages (from google-auth<3.0dev,>=2.14.1->google-api-core<3.0.0,>=1.0.0->opencensus->ray[default]) (0.2.7)\n",
      "Requirement already satisfied: rsa<5,>=3.1.4 in /opt/conda/lib/python3.10/site-packages (from google-auth<3.0dev,>=2.14.1->google-api-core<3.0.0,>=1.0.0->opencensus->ray[default]) (4.9)\n",
      "Requirement already satisfied: pyasn1<0.5.0,>=0.4.6 in /opt/conda/lib/python3.10/site-packages (from pyasn1-modules>=0.2.1->google-auth<3.0dev,>=2.14.1->google-api-core<3.0.0,>=1.0.0->opencensus->ray[default]) (0.4.8)\n",
      "Installing collected packages: py-spy, opencensus-context, nvidia-ml-py, colorful, smart-open, pydantic, googleapis-common-protos, blessed, gpustat, google-api-core, aiohttp-cors, opencensus\n",
      "Successfully installed aiohttp-cors-0.7.0 blessed-1.20.0 colorful-0.5.5 google-api-core-2.11.0 googleapis-common-protos-1.59.0 gpustat-1.1 nvidia-ml-py-11.525.112 opencensus-0.11.2 opencensus-context-0.1.3 py-spy-0.3.14 pydantic-1.10.8 smart-open-6.3.0\n",
      "Note: you may need to restart the kernel to use updated packages.\n",
      "Looking in links: https://storage.googleapis.com/jax-releases/libtpu_releases.html\n",
      "Collecting jax[tpu]>=0.2.16\n",
      "  Using cached jax-0.4.10-py3-none-any.whl\n",
      "Collecting ml-dtypes>=0.1.0 (from jax[tpu]>=0.2.16)\n",
      "  Using cached ml_dtypes-0.1.0-cp310-cp310-manylinux_2_17_x86_64.manylinux2014_x86_64.whl (190 kB)\n",
      "Requirement already satisfied: numpy>=1.21 in /opt/conda/lib/python3.10/site-packages (from jax[tpu]>=0.2.16) (1.23.5)\n",
      "Requirement already satisfied: opt-einsum in /opt/conda/lib/python3.10/site-packages (from jax[tpu]>=0.2.16) (3.3.0)\n",
      "Requirement already satisfied: scipy>=1.7 in /opt/conda/lib/python3.10/site-packages (from jax[tpu]>=0.2.16) (1.10.1)\n",
      "Collecting jaxlib==0.4.10 (from jax[tpu]>=0.2.16)\n",
      "  Using cached jaxlib-0.4.10-cp310-cp310-manylinux2014_x86_64.whl (69.9 MB)\n",
      "Collecting libtpu-nightly==0.1.dev20230511 (from jax[tpu]>=0.2.16)\n",
      "  Using cached https://storage.googleapis.com/cloud-tpu-tpuvm-artifacts/wheels/libtpu-nightly/libtpu_nightly-0.1.dev20230511-py3-none-any.whl (169.2 MB)\n",
      "Requirement already satisfied: requests in /opt/conda/lib/python3.10/site-packages (from jax[tpu]>=0.2.16) (2.29.0)\n",
      "Requirement already satisfied: charset-normalizer<4,>=2 in /opt/conda/lib/python3.10/site-packages (from requests->jax[tpu]>=0.2.16) (3.1.0)\n",
      "Requirement already satisfied: idna<4,>=2.5 in /opt/conda/lib/python3.10/site-packages (from requests->jax[tpu]>=0.2.16) (3.4)\n",
      "Requirement already satisfied: urllib3<1.27,>=1.21.1 in /opt/conda/lib/python3.10/site-packages (from requests->jax[tpu]>=0.2.16) (1.26.15)\n",
      "Requirement already satisfied: certifi>=2017.4.17 in /opt/conda/lib/python3.10/site-packages (from requests->jax[tpu]>=0.2.16) (2023.5.7)\n",
      "Installing collected packages: libtpu-nightly, ml-dtypes, jaxlib, jax\n",
      "Successfully installed jax-0.4.10 jaxlib-0.4.10 libtpu-nightly-0.1.dev20230511 ml-dtypes-0.1.0\n",
      "Note: you may need to restart the kernel to use updated packages.\n"
     ]
    }
   ],
   "source": [
    "%pip install \"ray[default]\"\n",
    "%pip install \"jax[tpu]>=0.2.16\" -f https://storage.googleapis.com/jax-releases/libtpu_releases.html"
   ]
  },
  {
   "cell_type": "code",
   "execution_count": 1,
   "id": "f488c13b-000d-46aa-8540-76d4c6863259",
   "metadata": {
    "tags": []
   },
   "outputs": [
    {
     "data": {
      "text/html": [
       "<div>\n",
       "    <div style=\"margin-left: 50px;display: flex;flex-direction: row;align-items: center\">\n",
       "        <h3 style=\"color: var(--jp-ui-font-color0)\">Ray</h3>\n",
       "        <svg version=\"1.1\" id=\"ray\" width=\"3em\" viewBox=\"0 0 144.5 144.6\" style=\"margin-left: 3em;margin-right: 3em\">\n",
       "            <g id=\"layer-1\">\n",
       "                <path fill=\"#00a2e9\" class=\"st0\" d=\"M97.3,77.2c-3.8-1.1-6.2,0.9-8.3,5.1c-3.5,6.8-9.9,9.9-17.4,9.6S58,88.1,54.8,81.2c-1.4-3-3-4-6.3-4.1\n",
       "                    c-5.6-0.1-9.9,0.1-13.1,6.4c-3.8,7.6-13.6,10.2-21.8,7.6C5.2,88.4-0.4,80.5,0,71.7c0.1-8.4,5.7-15.8,13.8-18.2\n",
       "                    c8.4-2.6,17.5,0.7,22.3,8c1.3,1.9,1.3,5.2,3.6,5.6c3.9,0.6,8,0.2,12,0.2c1.8,0,1.9-1.6,2.4-2.8c3.5-7.8,9.7-11.8,18-11.9\n",
       "                    c8.2-0.1,14.4,3.9,17.8,11.4c1.3,2.8,2.9,3.6,5.7,3.3c1-0.1,2,0.1,3,0c2.8-0.5,6.4,1.7,8.1-2.7s-2.3-5.5-4.1-7.5\n",
       "                    c-5.1-5.7-10.9-10.8-16.1-16.3C84,38,81.9,37.1,78,38.3C66.7,42,56.2,35.7,53,24.1C50.3,14,57.3,2.8,67.7,0.5\n",
       "                    C78.4-2,89,4.7,91.5,15.3c0.1,0.3,0.1,0.5,0.2,0.8c0.7,3.4,0.7,6.9-0.8,9.8c-1.7,3.2-0.8,5,1.5,7.2c6.7,6.5,13.3,13,19.8,19.7\n",
       "                    c1.8,1.8,3,2.1,5.5,1.2c9.1-3.4,17.9-0.6,23.4,7c4.8,6.9,4.6,16.1-0.4,22.9c-5.4,7.2-14.2,9.9-23.1,6.5c-2.3-0.9-3.5-0.6-5.1,1.1\n",
       "                    c-6.7,6.9-13.6,13.7-20.5,20.4c-1.8,1.8-2.5,3.2-1.4,5.9c3.5,8.7,0.3,18.6-7.7,23.6c-7.9,5-18.2,3.8-24.8-2.9\n",
       "                    c-6.4-6.4-7.4-16.2-2.5-24.3c4.9-7.8,14.5-11,23.1-7.8c3,1.1,4.7,0.5,6.9-1.7C91.7,98.4,98,92.3,104.2,86c1.6-1.6,4.1-2.7,2.6-6.2\n",
       "                    c-1.4-3.3-3.8-2.5-6.2-2.6C99.8,77.2,98.9,77.2,97.3,77.2z M72.1,29.7c5.5,0.1,9.9-4.3,10-9.8c0-0.1,0-0.2,0-0.3\n",
       "                    C81.8,14,77,9.8,71.5,10.2c-5,0.3-9,4.2-9.3,9.2c-0.2,5.5,4,10.1,9.5,10.3C71.8,29.7,72,29.7,72.1,29.7z M72.3,62.3\n",
       "                    c-5.4-0.1-9.9,4.2-10.1,9.7c0,0.2,0,0.3,0,0.5c0.2,5.4,4.5,9.7,9.9,10c5.1,0.1,9.9-4.7,10.1-9.8c0.2-5.5-4-10-9.5-10.3\n",
       "                    C72.6,62.3,72.4,62.3,72.3,62.3z M115,72.5c0.1,5.4,4.5,9.7,9.8,9.9c5.6-0.2,10-4.8,10-10.4c-0.2-5.4-4.6-9.7-10-9.7\n",
       "                    c-5.3-0.1-9.8,4.2-9.9,9.5C115,72.1,115,72.3,115,72.5z M19.5,62.3c-5.4,0.1-9.8,4.4-10,9.8c-0.1,5.1,5.2,10.4,10.2,10.3\n",
       "                    c5.6-0.2,10-4.9,9.8-10.5c-0.1-5.4-4.5-9.7-9.9-9.6C19.6,62.3,19.5,62.3,19.5,62.3z M71.8,134.6c5.9,0.2,10.3-3.9,10.4-9.6\n",
       "                    c0.5-5.5-3.6-10.4-9.1-10.8c-5.5-0.5-10.4,3.6-10.8,9.1c0,0.5,0,0.9,0,1.4c-0.2,5.3,4,9.8,9.3,10\n",
       "                    C71.6,134.6,71.7,134.6,71.8,134.6z\"/>\n",
       "            </g>\n",
       "        </svg>\n",
       "        <table>\n",
       "            <tr>\n",
       "                <td style=\"text-align: left\"><b>Python version:</b></td>\n",
       "                <td style=\"text-align: left\"><b>3.10.9</b></td>\n",
       "            </tr>\n",
       "            <tr>\n",
       "                <td style=\"text-align: left\"><b>Ray version:</b></td>\n",
       "                <td style=\"text-align: left\"><b> 2.3.0</b></td>\n",
       "            </tr>\n",
       "            <tr>\n",
       "    <td style=\"text-align: left\"><b>Dashboard:</b></td>\n",
       "    <td style=\"text-align: left\"><b><a href=\"http://10.48.0.30:8265\" target=\"_blank\">http://10.48.0.30:8265</a></b></td>\n",
       "</tr>\n",
       "\n",
       "        </table>\n",
       "    </div>\n",
       "</div>\n"
      ],
      "text/plain": [
       "ClientContext(dashboard_url='10.48.0.30:8265', python_version='3.10.9', ray_version='2.3.0', ray_commit='cf7a56b4b0b648c324722df7c99c168e92ff0b45', protocol_version='2022-12-06', _num_clients=2, _context_to_restore=<ray.util.client._ClientContext object at 0x7f0ff0b4e140>)"
      ]
     },
     "execution_count": 1,
     "metadata": {},
     "output_type": "execute_result"
    }
   ],
   "source": [
    "import ray\n",
    "ray.init(\n",
    "    address=\"ray://example-cluster-kuberay-head-svc:10001\"\n",
    "    #address=\"ray://raycluster-complete-head-svc:10001\"\n",
    ")"
   ]
  },
  {
   "cell_type": "code",
   "execution_count": 2,
   "id": "feeee0e4-6135-470c-8f5c-a1ba3b4bda7e",
   "metadata": {
    "tags": []
   },
   "outputs": [
    {
     "name": "stdout",
     "output_type": "stream",
     "text": [
      "{'Alive': True,\n",
      " 'MetricsExportPort': 8080,\n",
      " 'NodeID': '3caa95c01d80677ca6b5ef899e10aa3eb19448166bd2a4fe361b1e88',\n",
      " 'NodeManagerAddress': '10.48.0.30',\n",
      " 'NodeManagerHostname': 'example-cluster-kuberay-head-bbxhl',\n",
      " 'NodeManagerPort': 41741,\n",
      " 'NodeName': '10.48.0.30',\n",
      " 'ObjectManagerPort': 45843,\n",
      " 'ObjectStoreSocketName': '/tmp/ray/session_2023-05-25_18-39-38_622164_8/sockets/plasma_store',\n",
      " 'RayletSocketName': '/tmp/ray/session_2023-05-25_18-39-38_622164_8/sockets/raylet',\n",
      " 'Resources': {'CPU': 8.0,\n",
      "               'google.com/tpu': 4.0,\n",
      "               'memory': 20000000000.0,\n",
      "               'node:10.48.0.30': 1.0,\n",
      "               'object_store_memory': 19000001945.0},\n",
      " 'alive': True}\n",
      "\"1 total workers: ['3caa95c01d80677ca6b5ef899e10aa3eb19448166bd2a4fe361b1e88']\"\n",
      "TPU_WORKER_HOSTNAMES=10.48.0.30\n"
     ]
    }
   ],
   "source": [
    "from pprint import pprint\n",
    "\n",
    "nodelist = []\n",
    "node_ids = []\n",
    "for node in ray.nodes():\n",
    "    nodelist.append(node[\"NodeManagerAddress\"])\n",
    "    node_ids.append(node[\"NodeID\"])\n",
    "    pprint(node)\n",
    "    \n",
    "#pprint(ray.nodes())\n",
    "tpu_worker_list = \",\".join(nodelist)\n",
    "num_workers = len(nodelist)\n",
    "pprint (\"{} total workers: {}\".format(num_workers, node_ids))\n",
    "print(\"TPU_WORKER_HOSTNAMES={}\".format(tpu_worker_list))"
   ]
  },
  {
   "cell_type": "code",
   "execution_count": 3,
   "id": "78d89b73-21d9-4b47-85eb-ce2add6f1781",
   "metadata": {
    "tags": []
   },
   "outputs": [],
   "source": [
    "import jax\n",
    "import os\n",
    "from jax import numpy as jnp, random\n",
    "\n",
    "actor_runtime_vars = {\n",
    "    \"env_vars\": {\n",
    "        \"TPU_SKIP_MDS_QUERY\": \"true\",\n",
    "        \"TPU_WORKER_HOSTNAMES\": tpu_worker_list,\n",
    "        \"JAX_PLATFORMS\": \"tpu\",\n",
    "    },\n",
    "}\n",
    "\n",
    "#print(jax.device_count())\n",
    "#assert jax.devices()[0].platform == 'tpu'\n",
    "#jax.distributed.initialize()\n",
    "\n",
    "# Define the neural network architecture\n",
    "input_size = 10\n",
    "hidden_size = 5\n",
    "output_size = 2\n",
    "\n",
    "@ray.remote(scheduling_strategy=\"SPREAD\", resources={\"google.com/tpu\": 4})\n",
    "class JaxNNActor:\n",
    "    \n",
    "    def __init__(self, worker_id, num_samples, learning_rate, num_epochs):\n",
    "        self.worker_id = worker_id\n",
    "        self.num_samples = num_samples\n",
    "        self.learning_rate = learning_rate\n",
    "        self.num_epochs = num_epochs\n",
    "        pass\n",
    "    \n",
    "    def initialize(self):\n",
    "        key = random.PRNGKey(0)\n",
    "        self.params = {\n",
    "            'W1': random.normal(key, (input_size, hidden_size)),\n",
    "            'b1': jnp.zeros(hidden_size),\n",
    "            'W2': random.normal(key, (hidden_size, output_size)),\n",
    "            'b2': jnp.zeros(output_size)\n",
    "        }\n",
    "          \n",
    "    # Define the forward pass of the network\n",
    "    def forward(self, params, x):\n",
    "        hidden = jax.nn.relu(jnp.dot(x, params['W1']) + params['b1'])\n",
    "        output = jnp.dot(hidden, params['W2']) + params['b2']\n",
    "        return output\n",
    "\n",
    "    # Define the loss function\n",
    "    def loss(self, params, x, y):\n",
    "        y_pred = self.forward(params, x)\n",
    "        return jnp.mean((y_pred - y)**2)\n",
    "\n",
    "    # Define the training function\n",
    "    #@jax.jit -- instead of the jax.jit decorator, we'll jit the function explicitly in the run, since this gets sent remotely to the ray worker\n",
    "    def train_step(self, params, x, y, learning_rate, key):\n",
    "        grads = jax.grad(self.loss)(params, x, y)\n",
    "        new_params = jax.tree_map(lambda p, g: p - learning_rate * g, params, grads)\n",
    "        return new_params, key\n",
    "\n",
    "    def run(self):\n",
    "        self.initialize()\n",
    "        # Generate some example data\n",
    "        key = random.PRNGKey(0)\n",
    "        x = random.normal(key, (self.num_samples, input_size))\n",
    "        y = random.normal(key, (self.num_samples, output_size))\n",
    "        \n",
    "        # jit the train function\n",
    "        train_step_jit = jax.jit(self.train_step)\n",
    "        \n",
    "        params = self.params\n",
    "        # Train the network\n",
    "        for epoch in range(self.num_epochs):\n",
    "            if self.worker_id == 0 and epoch % 100 == 0:\n",
    "                print(\"training epoch {}\".format(epoch))\n",
    "            key, subkey = random.split(key)\n",
    "            params, _ = train_step_jit(params, x, y, self.learning_rate, subkey)\n",
    "            \n",
    "        if self.worker_id == 0:\n",
    "            print(\"training completed\")\n",
    "\n",
    "    def predict(self):\n",
    "        print(\"my pid: {}\".format(os.getpid()))\n",
    "        key = random.PRNGKey(0)\n",
    "        # Use the trained network to make predictions on new data\n",
    "        key, subkey = random.split(key)\n",
    "        new_x = random.normal(subkey, (1, input_size))    \n",
    "        new_y = self.forward(self.params, new_x)\n",
    "        print(new_y)\n",
    "            \n",
    "        if self.worker_id == 0:\n",
    "            return new_y\n",
    "        \n",
    "        return None"
   ]
  },
  {
   "cell_type": "code",
   "execution_count": 7,
   "id": "95c94ea4-4116-4daf-8e64-2cfca6eef106",
   "metadata": {
    "tags": []
   },
   "outputs": [],
   "source": [
    "num_samples = 100\n",
    "learning_rate = 0.1\n",
    "num_epochs = 1000\n",
    "\n",
    "actor_refs = [JaxNNActor.options(\n",
    "    runtime_env={\n",
    "        \"env_vars\":{\n",
    "            \"TPU_WORKER_ID\":str(i), \n",
    "            \"TPU_WORKER_HOSTNAMES\": tpu_worker_list, \n",
    "            \"TPU_SKIP_MDS_QUERY\": \"true\",\n",
    "            \"JAX_PLATFORMS\": \"\",\n",
    "            \"TF_CPP_MIN_LOG_LEVEL\": \"0\"\n",
    "        },\n",
    "    },\n",
    "    scheduling_strategy=ray.util.scheduling_strategies.NodeAffinitySchedulingStrategy(\n",
    "        node_id=node_ids[i],\n",
    "        soft=False,\n",
    "    ),\n",
    ").remote(i, num_samples, learning_rate, num_epochs) for i in range(num_workers)]"
   ]
  },
  {
   "cell_type": "code",
   "execution_count": 10,
   "id": "d47a060a-af19-4384-9471-df77107e7842",
   "metadata": {
    "tags": []
   },
   "outputs": [
    {
     "name": "stdout",
     "output_type": "stream",
     "text": [
      "[ClientObjectRef(0ae631196af8e7cfb95f5b49171b4a6877e10a4f0300000001000000)]\n",
      "\u001b[2m\u001b[36m(JaxNNActor pid=5947)\u001b[0m training epoch 0\n",
      "\u001b[2m\u001b[36m(JaxNNActor pid=5947)\u001b[0m training epoch 100\n",
      "\u001b[2m\u001b[36m(JaxNNActor pid=5947)\u001b[0m training epoch 200\n",
      "\u001b[2m\u001b[36m(JaxNNActor pid=5947)\u001b[0m training epoch 300\n",
      "\u001b[2m\u001b[36m(JaxNNActor pid=5947)\u001b[0m training epoch 400\n",
      "\u001b[2m\u001b[36m(JaxNNActor pid=5947)\u001b[0m training epoch 500\n",
      "\u001b[2m\u001b[36m(JaxNNActor pid=5947)\u001b[0m training epoch 600\n"
     ]
    },
    {
     "data": {
      "text/plain": [
       "[None]"
      ]
     },
     "execution_count": 10,
     "metadata": {},
     "output_type": "execute_result"
    },
    {
     "name": "stdout",
     "output_type": "stream",
     "text": [
      "\u001b[2m\u001b[36m(JaxNNActor pid=5947)\u001b[0m training epoch 700\n",
      "\u001b[2m\u001b[36m(JaxNNActor pid=5947)\u001b[0m training epoch 800\n",
      "\u001b[2m\u001b[36m(JaxNNActor pid=5947)\u001b[0m training epoch 900\n",
      "\u001b[2m\u001b[36m(JaxNNActor pid=5947)\u001b[0m training completed\n"
     ]
    }
   ],
   "source": [
    "refs = []\n",
    "for i in range(len(actor_refs)):\n",
    "    refs.append(actor_refs[i].run.remote())\n",
    "print(refs)\n",
    "ray.get(refs)"
   ]
  },
  {
   "cell_type": "code",
   "execution_count": 11,
   "id": "d1a12faf-b79a-41f1-886f-fd57d2aedd67",
   "metadata": {
    "tags": []
   },
   "outputs": [
    {
     "name": "stderr",
     "output_type": "stream",
     "text": [
      "Unable to initialize backend 'tpu': ALREADY_EXISTS: PJRT_Api already exists for device type tpu (set JAX_PLATFORMS='' to automatically choose an available backend)\n"
     ]
    },
    {
     "name": "stdout",
     "output_type": "stream",
     "text": [
      "\u001b[2m\u001b[36m(JaxNNActor pid=5947)\u001b[0m my pid: 5947\n",
      "\u001b[2m\u001b[36m(JaxNNActor pid=5947)\u001b[0m [[-0.37971944 -1.6159217 ]]\n"
     ]
    },
    {
     "ename": "RaySystemError",
     "evalue": "System error: Unable to initialize backend 'tpu': ALREADY_EXISTS: PJRT_Api already exists for device type tpu (set JAX_PLATFORMS='' to automatically choose an available backend)\ntraceback: Traceback (most recent call last):\n  File \"/home/ray/anaconda3/lib/python3.10/site-packages/jax/_src/xla_bridge.py\", line 435, in backends\n    backend = _init_backend(platform)\n  File \"/home/ray/anaconda3/lib/python3.10/site-packages/jax/_src/xla_bridge.py\", line 488, in _init_backend\n    backend = factory()\n  File \"/home/ray/anaconda3/lib/python3.10/site-packages/jax/_src/xla_bridge.py\", line 189, in tpu_client_timer_callback\n    client = xla_client.make_tpu_client()\n  File \"/home/ray/anaconda3/lib/python3.10/site-packages/jaxlib/xla_client.py\", line 172, in make_tpu_client\n    load_pjrt_plugin_dynamically('tpu', library_path)\n  File \"/home/ray/anaconda3/lib/python3.10/site-packages/jaxlib/xla_client.py\", line 135, in load_pjrt_plugin_dynamically\n    _xla.load_pjrt_plugin(plugin_name, library_path)\njaxlib.xla_extension.XlaRuntimeError: ALREADY_EXISTS: PJRT_Api already exists for device type tpu\n\nDuring handling of the above exception, another exception occurred:\n\nTraceback (most recent call last):\n  File \"/home/ray/anaconda3/lib/python3.10/site-packages/ray/_private/serialization.py\", line 369, in deserialize_objects\n    obj = self._deserialize_object(data, metadata, object_ref)\n  File \"/home/ray/anaconda3/lib/python3.10/site-packages/ray/_private/serialization.py\", line 252, in _deserialize_object\n    return self._deserialize_msgpack_data(data, metadata_fields)\n  File \"/home/ray/anaconda3/lib/python3.10/site-packages/ray/_private/serialization.py\", line 207, in _deserialize_msgpack_data\n    python_objects = self._deserialize_pickle5_data(pickle5_data)\n  File \"/home/ray/anaconda3/lib/python3.10/site-packages/ray/_private/serialization.py\", line 197, in _deserialize_pickle5_data\n    obj = pickle.loads(in_band)\n  File \"/home/ray/anaconda3/lib/python3.10/site-packages/jax/_src/array.py\", line 106, in _reconstruct_array\n    jnp_value = api.device_put(np_value)\n  File \"/home/ray/anaconda3/lib/python3.10/site-packages/jax/_src/api.py\", line 2448, in device_put\n    return tree_map(\n  File \"/home/ray/anaconda3/lib/python3.10/site-packages/jax/_src/tree_util.py\", line 210, in tree_map\n    return treedef.unflatten(f(*xs) for xs in zip(*all_leaves))\n  File \"/home/ray/anaconda3/lib/python3.10/site-packages/jax/_src/tree_util.py\", line 210, in <genexpr>\n    return treedef.unflatten(f(*xs) for xs in zip(*all_leaves))\n  File \"/home/ray/anaconda3/lib/python3.10/site-packages/jax/_src/api.py\", line 2449, in <lambda>\n    lambda y: dispatch.device_put_p.bind(\n  File \"/home/ray/anaconda3/lib/python3.10/site-packages/jax/_src/core.py\", line 380, in bind\n    return self.bind_with_trace(find_top_trace(args), args, params)\n  File \"/home/ray/anaconda3/lib/python3.10/site-packages/jax/_src/core.py\", line 383, in bind_with_trace\n    out = trace.process_primitive(self, map(trace.full_raise, args), params)\n  File \"/home/ray/anaconda3/lib/python3.10/site-packages/jax/_src/core.py\", line 790, in process_primitive\n    return primitive.impl(*tracers, **params)\n  File \"/home/ray/anaconda3/lib/python3.10/site-packages/jax/_src/dispatch.py\", line 675, in _device_put_impl\n    sh = SingleDeviceSharding(pxla._get_default_device()\n  File \"/home/ray/anaconda3/lib/python3.10/site-packages/jax/_src/interpreters/pxla.py\", line 1761, in _get_default_device\n    return config.jax_default_device or xb.local_devices()[0]\n  File \"/home/ray/anaconda3/lib/python3.10/site-packages/jax/_src/xla_bridge.py\", line 631, in local_devices\n    process_index = get_backend(backend).process_index()\n  File \"/home/ray/anaconda3/lib/python3.10/site-packages/jax/_src/xla_bridge.py\", line 533, in get_backend\n    return _get_backend_uncached(platform)\n  File \"/home/ray/anaconda3/lib/python3.10/site-packages/jax/_src/xla_bridge.py\", line 514, in _get_backend_uncached\n    bs = backends()\n  File \"/home/ray/anaconda3/lib/python3.10/site-packages/jax/_src/xla_bridge.py\", line 452, in backends\n    raise RuntimeError(err_msg)\nRuntimeError: Unable to initialize backend 'tpu': ALREADY_EXISTS: PJRT_Api already exists for device type tpu (set JAX_PLATFORMS='' to automatically choose an available backend)\n",
     "output_type": "error",
     "traceback": [
      "\u001b[0;31m---------------------------------------------------------------------------\u001b[0m",
      "\u001b[0;31mRaySystemError\u001b[0m                            Traceback (most recent call last)",
      "Cell \u001b[0;32mIn[11], line 1\u001b[0m\n\u001b[0;32m----> 1\u001b[0m \u001b[43mray\u001b[49m\u001b[38;5;241;43m.\u001b[39;49m\u001b[43mget\u001b[49m\u001b[43m(\u001b[49m\u001b[43mactor_refs\u001b[49m\u001b[43m[\u001b[49m\u001b[38;5;241;43m0\u001b[39;49m\u001b[43m]\u001b[49m\u001b[38;5;241;43m.\u001b[39;49m\u001b[43mpredict\u001b[49m\u001b[38;5;241;43m.\u001b[39;49m\u001b[43mremote\u001b[49m\u001b[43m(\u001b[49m\u001b[43m)\u001b[49m\u001b[43m)\u001b[49m\n",
      "File \u001b[0;32m/opt/conda/lib/python3.10/site-packages/ray/_private/client_mode_hook.py:104\u001b[0m, in \u001b[0;36mclient_mode_hook.<locals>.wrapper\u001b[0;34m(*args, **kwargs)\u001b[0m\n\u001b[1;32m    100\u001b[0m \u001b[38;5;28;01mif\u001b[39;00m client_mode_should_convert(auto_init\u001b[38;5;241m=\u001b[39mauto_init):\n\u001b[1;32m    101\u001b[0m     \u001b[38;5;66;03m# Legacy code\u001b[39;00m\n\u001b[1;32m    102\u001b[0m     \u001b[38;5;66;03m# we only convert init function if RAY_CLIENT_MODE=1\u001b[39;00m\n\u001b[1;32m    103\u001b[0m     \u001b[38;5;28;01mif\u001b[39;00m func\u001b[38;5;241m.\u001b[39m\u001b[38;5;18m__name__\u001b[39m \u001b[38;5;241m!=\u001b[39m \u001b[38;5;124m\"\u001b[39m\u001b[38;5;124minit\u001b[39m\u001b[38;5;124m\"\u001b[39m \u001b[38;5;129;01mor\u001b[39;00m is_client_mode_enabled_by_default:\n\u001b[0;32m--> 104\u001b[0m         \u001b[38;5;28;01mreturn\u001b[39;00m \u001b[38;5;28;43mgetattr\u001b[39;49m\u001b[43m(\u001b[49m\u001b[43mray\u001b[49m\u001b[43m,\u001b[49m\u001b[43m \u001b[49m\u001b[43mfunc\u001b[49m\u001b[38;5;241;43m.\u001b[39;49m\u001b[38;5;18;43m__name__\u001b[39;49m\u001b[43m)\u001b[49m\u001b[43m(\u001b[49m\u001b[38;5;241;43m*\u001b[39;49m\u001b[43margs\u001b[49m\u001b[43m,\u001b[49m\u001b[43m \u001b[49m\u001b[38;5;241;43m*\u001b[39;49m\u001b[38;5;241;43m*\u001b[39;49m\u001b[43mkwargs\u001b[49m\u001b[43m)\u001b[49m\n\u001b[1;32m    105\u001b[0m \u001b[38;5;28;01mreturn\u001b[39;00m func(\u001b[38;5;241m*\u001b[39margs, \u001b[38;5;241m*\u001b[39m\u001b[38;5;241m*\u001b[39mkwargs)\n",
      "File \u001b[0;32m/opt/conda/lib/python3.10/site-packages/ray/util/client/api.py:42\u001b[0m, in \u001b[0;36m_ClientAPI.get\u001b[0;34m(self, vals, timeout)\u001b[0m\n\u001b[1;32m     35\u001b[0m \u001b[38;5;28;01mdef\u001b[39;00m \u001b[38;5;21mget\u001b[39m(\u001b[38;5;28mself\u001b[39m, vals, \u001b[38;5;241m*\u001b[39m, timeout\u001b[38;5;241m=\u001b[39m\u001b[38;5;28;01mNone\u001b[39;00m):\n\u001b[1;32m     36\u001b[0m \u001b[38;5;250m    \u001b[39m\u001b[38;5;124;03m\"\"\"get is the hook stub passed on to replace `ray.get`\u001b[39;00m\n\u001b[1;32m     37\u001b[0m \n\u001b[1;32m     38\u001b[0m \u001b[38;5;124;03m    Args:\u001b[39;00m\n\u001b[1;32m     39\u001b[0m \u001b[38;5;124;03m        vals: [Client]ObjectRef or list of these refs to retrieve.\u001b[39;00m\n\u001b[1;32m     40\u001b[0m \u001b[38;5;124;03m        timeout: Optional timeout in milliseconds\u001b[39;00m\n\u001b[1;32m     41\u001b[0m \u001b[38;5;124;03m    \"\"\"\u001b[39;00m\n\u001b[0;32m---> 42\u001b[0m     \u001b[38;5;28;01mreturn\u001b[39;00m \u001b[38;5;28;43mself\u001b[39;49m\u001b[38;5;241;43m.\u001b[39;49m\u001b[43mworker\u001b[49m\u001b[38;5;241;43m.\u001b[39;49m\u001b[43mget\u001b[49m\u001b[43m(\u001b[49m\u001b[43mvals\u001b[49m\u001b[43m,\u001b[49m\u001b[43m \u001b[49m\u001b[43mtimeout\u001b[49m\u001b[38;5;241;43m=\u001b[39;49m\u001b[43mtimeout\u001b[49m\u001b[43m)\u001b[49m\n",
      "File \u001b[0;32m/opt/conda/lib/python3.10/site-packages/ray/util/client/worker.py:434\u001b[0m, in \u001b[0;36mWorker.get\u001b[0;34m(self, vals, timeout)\u001b[0m\n\u001b[1;32m    432\u001b[0m     op_timeout \u001b[38;5;241m=\u001b[39m max_blocking_operation_time\n\u001b[1;32m    433\u001b[0m \u001b[38;5;28;01mtry\u001b[39;00m:\n\u001b[0;32m--> 434\u001b[0m     res \u001b[38;5;241m=\u001b[39m \u001b[38;5;28;43mself\u001b[39;49m\u001b[38;5;241;43m.\u001b[39;49m\u001b[43m_get\u001b[49m\u001b[43m(\u001b[49m\u001b[43mto_get\u001b[49m\u001b[43m,\u001b[49m\u001b[43m \u001b[49m\u001b[43mop_timeout\u001b[49m\u001b[43m)\u001b[49m\n\u001b[1;32m    435\u001b[0m     \u001b[38;5;28;01mbreak\u001b[39;00m\n\u001b[1;32m    436\u001b[0m \u001b[38;5;28;01mexcept\u001b[39;00m GetTimeoutError:\n",
      "File \u001b[0;32m/opt/conda/lib/python3.10/site-packages/ray/util/client/worker.py:462\u001b[0m, in \u001b[0;36mWorker._get\u001b[0;34m(self, ref, timeout)\u001b[0m\n\u001b[1;32m    460\u001b[0m         logger\u001b[38;5;241m.\u001b[39mexception(\u001b[38;5;124m\"\u001b[39m\u001b[38;5;124mFailed to deserialize \u001b[39m\u001b[38;5;132;01m{}\u001b[39;00m\u001b[38;5;124m\"\u001b[39m\u001b[38;5;241m.\u001b[39mformat(chunk\u001b[38;5;241m.\u001b[39merror))\n\u001b[1;32m    461\u001b[0m         \u001b[38;5;28;01mraise\u001b[39;00m\n\u001b[0;32m--> 462\u001b[0m     \u001b[38;5;28;01mraise\u001b[39;00m err\n\u001b[1;32m    463\u001b[0m \u001b[38;5;28;01mif\u001b[39;00m chunk\u001b[38;5;241m.\u001b[39mtotal_size \u001b[38;5;241m>\u001b[39m OBJECT_TRANSFER_WARNING_SIZE \u001b[38;5;129;01mand\u001b[39;00m log_once(\n\u001b[1;32m    464\u001b[0m     \u001b[38;5;124m\"\u001b[39m\u001b[38;5;124mclient_object_transfer_size_warning\u001b[39m\u001b[38;5;124m\"\u001b[39m\n\u001b[1;32m    465\u001b[0m ):\n\u001b[1;32m    466\u001b[0m     size_gb \u001b[38;5;241m=\u001b[39m chunk\u001b[38;5;241m.\u001b[39mtotal_size \u001b[38;5;241m/\u001b[39m \u001b[38;5;241m2\u001b[39m\u001b[38;5;241m*\u001b[39m\u001b[38;5;241m*\u001b[39m\u001b[38;5;241m30\u001b[39m\n",
      "\u001b[0;31mRaySystemError\u001b[0m: System error: Unable to initialize backend 'tpu': ALREADY_EXISTS: PJRT_Api already exists for device type tpu (set JAX_PLATFORMS='' to automatically choose an available backend)\ntraceback: Traceback (most recent call last):\n  File \"/home/ray/anaconda3/lib/python3.10/site-packages/jax/_src/xla_bridge.py\", line 435, in backends\n    backend = _init_backend(platform)\n  File \"/home/ray/anaconda3/lib/python3.10/site-packages/jax/_src/xla_bridge.py\", line 488, in _init_backend\n    backend = factory()\n  File \"/home/ray/anaconda3/lib/python3.10/site-packages/jax/_src/xla_bridge.py\", line 189, in tpu_client_timer_callback\n    client = xla_client.make_tpu_client()\n  File \"/home/ray/anaconda3/lib/python3.10/site-packages/jaxlib/xla_client.py\", line 172, in make_tpu_client\n    load_pjrt_plugin_dynamically('tpu', library_path)\n  File \"/home/ray/anaconda3/lib/python3.10/site-packages/jaxlib/xla_client.py\", line 135, in load_pjrt_plugin_dynamically\n    _xla.load_pjrt_plugin(plugin_name, library_path)\njaxlib.xla_extension.XlaRuntimeError: ALREADY_EXISTS: PJRT_Api already exists for device type tpu\n\nDuring handling of the above exception, another exception occurred:\n\nTraceback (most recent call last):\n  File \"/home/ray/anaconda3/lib/python3.10/site-packages/ray/_private/serialization.py\", line 369, in deserialize_objects\n    obj = self._deserialize_object(data, metadata, object_ref)\n  File \"/home/ray/anaconda3/lib/python3.10/site-packages/ray/_private/serialization.py\", line 252, in _deserialize_object\n    return self._deserialize_msgpack_data(data, metadata_fields)\n  File \"/home/ray/anaconda3/lib/python3.10/site-packages/ray/_private/serialization.py\", line 207, in _deserialize_msgpack_data\n    python_objects = self._deserialize_pickle5_data(pickle5_data)\n  File \"/home/ray/anaconda3/lib/python3.10/site-packages/ray/_private/serialization.py\", line 197, in _deserialize_pickle5_data\n    obj = pickle.loads(in_band)\n  File \"/home/ray/anaconda3/lib/python3.10/site-packages/jax/_src/array.py\", line 106, in _reconstruct_array\n    jnp_value = api.device_put(np_value)\n  File \"/home/ray/anaconda3/lib/python3.10/site-packages/jax/_src/api.py\", line 2448, in device_put\n    return tree_map(\n  File \"/home/ray/anaconda3/lib/python3.10/site-packages/jax/_src/tree_util.py\", line 210, in tree_map\n    return treedef.unflatten(f(*xs) for xs in zip(*all_leaves))\n  File \"/home/ray/anaconda3/lib/python3.10/site-packages/jax/_src/tree_util.py\", line 210, in <genexpr>\n    return treedef.unflatten(f(*xs) for xs in zip(*all_leaves))\n  File \"/home/ray/anaconda3/lib/python3.10/site-packages/jax/_src/api.py\", line 2449, in <lambda>\n    lambda y: dispatch.device_put_p.bind(\n  File \"/home/ray/anaconda3/lib/python3.10/site-packages/jax/_src/core.py\", line 380, in bind\n    return self.bind_with_trace(find_top_trace(args), args, params)\n  File \"/home/ray/anaconda3/lib/python3.10/site-packages/jax/_src/core.py\", line 383, in bind_with_trace\n    out = trace.process_primitive(self, map(trace.full_raise, args), params)\n  File \"/home/ray/anaconda3/lib/python3.10/site-packages/jax/_src/core.py\", line 790, in process_primitive\n    return primitive.impl(*tracers, **params)\n  File \"/home/ray/anaconda3/lib/python3.10/site-packages/jax/_src/dispatch.py\", line 675, in _device_put_impl\n    sh = SingleDeviceSharding(pxla._get_default_device()\n  File \"/home/ray/anaconda3/lib/python3.10/site-packages/jax/_src/interpreters/pxla.py\", line 1761, in _get_default_device\n    return config.jax_default_device or xb.local_devices()[0]\n  File \"/home/ray/anaconda3/lib/python3.10/site-packages/jax/_src/xla_bridge.py\", line 631, in local_devices\n    process_index = get_backend(backend).process_index()\n  File \"/home/ray/anaconda3/lib/python3.10/site-packages/jax/_src/xla_bridge.py\", line 533, in get_backend\n    return _get_backend_uncached(platform)\n  File \"/home/ray/anaconda3/lib/python3.10/site-packages/jax/_src/xla_bridge.py\", line 514, in _get_backend_uncached\n    bs = backends()\n  File \"/home/ray/anaconda3/lib/python3.10/site-packages/jax/_src/xla_bridge.py\", line 452, in backends\n    raise RuntimeError(err_msg)\nRuntimeError: Unable to initialize backend 'tpu': ALREADY_EXISTS: PJRT_Api already exists for device type tpu (set JAX_PLATFORMS='' to automatically choose an available backend)\n"
     ]
    }
   ],
   "source": [
    "ray.get(actor_refs[0].predict.remote())"
   ]
  },
  {
   "cell_type": "code",
   "execution_count": null,
   "id": "bf598964-1807-4e43-ba32-c5f67028aa99",
   "metadata": {},
   "outputs": [],
   "source": [
    "for i in range(num_workers):\n",
    "    print (\"terminating actor {}\".format(i))\n",
    "    ray.kill(actor_refs[i])"
   ]
  }
 ],
 "metadata": {
  "kernelspec": {
   "display_name": "Python 3 (ipykernel)",
   "language": "python",
   "name": "python3"
  },
  "language_info": {
   "codemirror_mode": {
    "name": "ipython",
    "version": 3
   },
   "file_extension": ".py",
   "mimetype": "text/x-python",
   "name": "python",
   "nbconvert_exporter": "python",
   "pygments_lexer": "ipython3",
   "version": "3.10.11"
  }
 },
 "nbformat": 4,
 "nbformat_minor": 5
}
