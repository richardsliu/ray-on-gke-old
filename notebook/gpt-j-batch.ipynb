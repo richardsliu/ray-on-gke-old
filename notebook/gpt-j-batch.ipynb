{
 "cells": [
  {
   "cell_type": "code",
   "execution_count": 1,
   "id": "cae59ecf-ad06-4e16-bab9-4246d9d949cd",
   "metadata": {
    "tags": []
   },
   "outputs": [],
   "source": [
    "model_id = \"EleutherAI/gpt-j-6B\"\n",
    "revision = \"float16\"  # use float16 weights to fit in 16GB GPUs\n",
    "prompt = (\n",
    "    \"In a shocking finding, scientists discovered a herd of unicorns living in a remote, \"\n",
    "    \"previously unexplored valley, in the Andes Mountains. Even more surprising to the \"\n",
    "    \"researchers was the fact that the unicorns spoke perfect English.\"\n",
    ")"
   ]
  },
  {
   "cell_type": "code",
   "execution_count": 2,
   "id": "355017e3-dd79-4026-a786-a255bf9385a4",
   "metadata": {
    "tags": []
   },
   "outputs": [],
   "source": [
    "import ray"
   ]
  },
  {
   "cell_type": "code",
   "execution_count": 3,
   "id": "5c819666-1c70-4af9-8478-20e176485729",
   "metadata": {
    "tags": []
   },
   "outputs": [
    {
     "data": {
      "text/html": [
       "<div>\n",
       "    <div style=\"margin-left: 50px;display: flex;flex-direction: row;align-items: center\">\n",
       "        <h3 style=\"color: var(--jp-ui-font-color0)\">Ray</h3>\n",
       "        <svg version=\"1.1\" id=\"ray\" width=\"3em\" viewBox=\"0 0 144.5 144.6\" style=\"margin-left: 3em;margin-right: 3em\">\n",
       "            <g id=\"layer-1\">\n",
       "                <path fill=\"#00a2e9\" class=\"st0\" d=\"M97.3,77.2c-3.8-1.1-6.2,0.9-8.3,5.1c-3.5,6.8-9.9,9.9-17.4,9.6S58,88.1,54.8,81.2c-1.4-3-3-4-6.3-4.1\n",
       "                    c-5.6-0.1-9.9,0.1-13.1,6.4c-3.8,7.6-13.6,10.2-21.8,7.6C5.2,88.4-0.4,80.5,0,71.7c0.1-8.4,5.7-15.8,13.8-18.2\n",
       "                    c8.4-2.6,17.5,0.7,22.3,8c1.3,1.9,1.3,5.2,3.6,5.6c3.9,0.6,8,0.2,12,0.2c1.8,0,1.9-1.6,2.4-2.8c3.5-7.8,9.7-11.8,18-11.9\n",
       "                    c8.2-0.1,14.4,3.9,17.8,11.4c1.3,2.8,2.9,3.6,5.7,3.3c1-0.1,2,0.1,3,0c2.8-0.5,6.4,1.7,8.1-2.7s-2.3-5.5-4.1-7.5\n",
       "                    c-5.1-5.7-10.9-10.8-16.1-16.3C84,38,81.9,37.1,78,38.3C66.7,42,56.2,35.7,53,24.1C50.3,14,57.3,2.8,67.7,0.5\n",
       "                    C78.4-2,89,4.7,91.5,15.3c0.1,0.3,0.1,0.5,0.2,0.8c0.7,3.4,0.7,6.9-0.8,9.8c-1.7,3.2-0.8,5,1.5,7.2c6.7,6.5,13.3,13,19.8,19.7\n",
       "                    c1.8,1.8,3,2.1,5.5,1.2c9.1-3.4,17.9-0.6,23.4,7c4.8,6.9,4.6,16.1-0.4,22.9c-5.4,7.2-14.2,9.9-23.1,6.5c-2.3-0.9-3.5-0.6-5.1,1.1\n",
       "                    c-6.7,6.9-13.6,13.7-20.5,20.4c-1.8,1.8-2.5,3.2-1.4,5.9c3.5,8.7,0.3,18.6-7.7,23.6c-7.9,5-18.2,3.8-24.8-2.9\n",
       "                    c-6.4-6.4-7.4-16.2-2.5-24.3c4.9-7.8,14.5-11,23.1-7.8c3,1.1,4.7,0.5,6.9-1.7C91.7,98.4,98,92.3,104.2,86c1.6-1.6,4.1-2.7,2.6-6.2\n",
       "                    c-1.4-3.3-3.8-2.5-6.2-2.6C99.8,77.2,98.9,77.2,97.3,77.2z M72.1,29.7c5.5,0.1,9.9-4.3,10-9.8c0-0.1,0-0.2,0-0.3\n",
       "                    C81.8,14,77,9.8,71.5,10.2c-5,0.3-9,4.2-9.3,9.2c-0.2,5.5,4,10.1,9.5,10.3C71.8,29.7,72,29.7,72.1,29.7z M72.3,62.3\n",
       "                    c-5.4-0.1-9.9,4.2-10.1,9.7c0,0.2,0,0.3,0,0.5c0.2,5.4,4.5,9.7,9.9,10c5.1,0.1,9.9-4.7,10.1-9.8c0.2-5.5-4-10-9.5-10.3\n",
       "                    C72.6,62.3,72.4,62.3,72.3,62.3z M115,72.5c0.1,5.4,4.5,9.7,9.8,9.9c5.6-0.2,10-4.8,10-10.4c-0.2-5.4-4.6-9.7-10-9.7\n",
       "                    c-5.3-0.1-9.8,4.2-9.9,9.5C115,72.1,115,72.3,115,72.5z M19.5,62.3c-5.4,0.1-9.8,4.4-10,9.8c-0.1,5.1,5.2,10.4,10.2,10.3\n",
       "                    c5.6-0.2,10-4.9,9.8-10.5c-0.1-5.4-4.5-9.7-9.9-9.6C19.6,62.3,19.5,62.3,19.5,62.3z M71.8,134.6c5.9,0.2,10.3-3.9,10.4-9.6\n",
       "                    c0.5-5.5-3.6-10.4-9.1-10.8c-5.5-0.5-10.4,3.6-10.8,9.1c0,0.5,0,0.9,0,1.4c-0.2,5.3,4,9.8,9.3,10\n",
       "                    C71.6,134.6,71.7,134.6,71.8,134.6z\"/>\n",
       "            </g>\n",
       "        </svg>\n",
       "        <table>\n",
       "            <tr>\n",
       "                <td style=\"text-align: left\"><b>Python version:</b></td>\n",
       "                <td style=\"text-align: left\"><b>3.10.9</b></td>\n",
       "            </tr>\n",
       "            <tr>\n",
       "                <td style=\"text-align: left\"><b>Ray version:</b></td>\n",
       "                <td style=\"text-align: left\"><b> 2.3.0</b></td>\n",
       "            </tr>\n",
       "            <tr>\n",
       "    <td style=\"text-align: left\"><b>Dashboard:</b></td>\n",
       "    <td style=\"text-align: left\"><b><a href=\"http://10.8.3.5:8265\" target=\"_blank\">http://10.8.3.5:8265</a></b></td>\n",
       "</tr>\n",
       "\n",
       "        </table>\n",
       "    </div>\n",
       "</div>\n"
      ],
      "text/plain": [
       "ClientContext(dashboard_url='10.8.3.5:8265', python_version='3.10.9', ray_version='2.3.0', ray_commit='cf7a56b4b0b648c324722df7c99c168e92ff0b45', protocol_version='2022-12-06', _num_clients=4, _context_to_restore=<ray.util.client._ClientContext object at 0x7ff179831f90>)"
      ]
     },
     "execution_count": 3,
     "metadata": {},
     "output_type": "execute_result"
    }
   ],
   "source": [
    "ray.init(\n",
    "    \"ray://example-cluster-kuberay-head-svc:10001\",\n",
    "    runtime_env={\n",
    "        \"pip\": [\n",
    "            \"accelerate>=0.16.0\",\n",
    "            \"transformers>=4.26.0\",\n",
    "            \"numpy<1.24\",  # remove when mlflow updates beyond 2.2\n",
    "            \"torch\",\n",
    "        ]\n",
    "    }\n",
    ")"
   ]
  },
  {
   "cell_type": "code",
   "execution_count": 4,
   "id": "a1351626-8ed3-44c8-8052-1279c0c5979c",
   "metadata": {
    "tags": []
   },
   "outputs": [
    {
     "name": "stderr",
     "output_type": "stream",
     "text": [
      "\u001b[2m\u001b[33m(raylet)\u001b[0m bash: /home/ray/anaconda3/lib/libtinfo.so.6: no version information available (required by bash)\n"
     ]
    }
   ],
   "source": [
    "import ray.data\n",
    "import pandas as pd\n",
    "\n",
    "ds = ray.data.from_pandas(pd.DataFrame([prompt] * 10, columns=[\"prompt\"]))"
   ]
  },
  {
   "cell_type": "code",
   "execution_count": 5,
   "id": "62b71bae-3c3b-4ea3-9ffe-e6f4cc31e004",
   "metadata": {
    "tags": []
   },
   "outputs": [],
   "source": [
    "class PredictCallable:\n",
    "    def __init__(self, model_id: str, revision: str = None):\n",
    "        from transformers import AutoModelForCausalLM, AutoTokenizer\n",
    "        import torch\n",
    "\n",
    "        self.model = AutoModelForCausalLM.from_pretrained(\n",
    "            model_id,\n",
    "            revision=revision,\n",
    "            torch_dtype=torch.float16,\n",
    "            low_cpu_mem_usage=True,\n",
    "            device_map=\"auto\",  # automatically makes use of all GPUs available to the Actor\n",
    "        )\n",
    "        self.tokenizer = AutoTokenizer.from_pretrained(model_id)\n",
    "\n",
    "    def __call__(self, batch: pd.DataFrame) -> pd.DataFrame:\n",
    "        tokenized = self.tokenizer(\n",
    "            list(batch[\"prompt\"]), return_tensors=\"pt\"\n",
    "        )\n",
    "        input_ids = tokenized.input_ids.to(self.model.device)\n",
    "        attention_mask = tokenized.attention_mask.to(self.model.device)\n",
    "\n",
    "        gen_tokens = self.model.generate(\n",
    "            input_ids=input_ids,\n",
    "            attention_mask=attention_mask,\n",
    "            do_sample=True,\n",
    "            temperature=0.9,\n",
    "            max_length=100,\n",
    "            pad_token_id=self.tokenizer.eos_token_id,\n",
    "        )\n",
    "        return pd.DataFrame(\n",
    "            self.tokenizer.batch_decode(gen_tokens), columns=[\"responses\"]\n",
    "        )"
   ]
  },
  {
   "cell_type": "code",
   "execution_count": 6,
   "id": "5f700bb4-1430-46a0-aa47-ffab1f64ad67",
   "metadata": {
    "tags": []
   },
   "outputs": [],
   "source": [
    "preds = (\n",
    "    ds\n",
    "    .repartition(100)\n",
    "    .map_batches(\n",
    "        PredictCallable,\n",
    "        batch_size=4,\n",
    "        fn_constructor_kwargs=dict(model_id=model_id, revision=revision),\n",
    "        compute=\"actors\",\n",
    "        num_gpus=1,\n",
    "    )\n",
    ")"
   ]
  },
  {
   "cell_type": "code",
   "execution_count": 7,
   "id": "cf4367b8-f63f-4fbd-a3d7-a9583990aa07",
   "metadata": {
    "tags": []
   },
   "outputs": [
    {
     "name": "stderr",
     "output_type": "stream",
     "text": [
      "2023-04-14 00:01:16,033\tINFO bulk_executor.py:39 -- Executing DAG InputDataBuffer[Input] -> AllToAllOperator[repartition] -> ActorPoolMapOperator[MapBatches(PredictCallable)]\n",
      "\u001b[2m\u001b[33m(raylet, ip=10.8.4.5)\u001b[0m bash: /home/ray/anaconda3/lib/libtinfo.so.6: no version information available (required by bash)\n",
      "Repartition:  10%|█         | 10/100 [00:00<00:03, 27.70it/s]\n",
      "MapBatches(PredictCallable):   0%|          | 0/100 [00:00<?, ?it/s]\u001b[2m\u001b[33m(raylet)\u001b[0m bash: /home/ray/anaconda3/lib/libtinfo.so.6: no version information available (required by bash)\n",
      "\u001b[2m\u001b[33m(raylet, ip=10.8.5.4)\u001b[0m bash: /home/ray/anaconda3/lib/libtinfo.so.6: no version information available (required by bash)\n",
      "\u001b[2m\u001b[33m(raylet, ip=10.8.5.4)\u001b[0m bash: /home/ray/anaconda3/lib/libtinfo.so.6: no version information available (required by bash)\n",
      "\u001b[2m\u001b[33m(raylet)\u001b[0m bash: /home/ray/anaconda3/lib/libtinfo.so.6: no version information available (required by bash)\n",
      "Downloading (…)/float16/config.json:   0%|          | 0.00/836 [00:00<?, ?B/s]\n",
      "Downloading (…)/float16/config.json: 100%|██████████| 836/836 [00:00<00:00, 996kB/s]\n"
     ]
    },
    {
     "ename": "RayTaskError(RuntimeError)",
     "evalue": "\u001b[36mray::_MapWorker.submit()\u001b[39m (pid=938, ip=10.8.5.4)\n  File \"/tmp/ray/session_2023-04-13_14-42-58_538184_8/runtime_resources/pip/9fc91d65ff21920e7899b7316ff121f0058d7e36/virtualenv/lib/python3.10/site-packages/transformers/utils/import_utils.py\", line 1146, in _get_module\n    return importlib.import_module(\".\" + module_name, self.__name__)\n  File \"/home/ray/anaconda3/lib/python3.10/importlib/__init__.py\", line 126, in import_module\n    return _bootstrap._gcd_import(name[level:], package, level)\n  File \"<frozen importlib._bootstrap>\", line 1050, in _gcd_import\n  File \"<frozen importlib._bootstrap>\", line 1027, in _find_and_load\n  File \"<frozen importlib._bootstrap>\", line 1006, in _find_and_load_unlocked\n  File \"<frozen importlib._bootstrap>\", line 688, in _load_unlocked\n  File \"<frozen importlib._bootstrap_external>\", line 883, in exec_module\n  File \"<frozen importlib._bootstrap>\", line 241, in _call_with_frames_removed\n  File \"/tmp/ray/session_2023-04-13_14-42-58_538184_8/runtime_resources/pip/9fc91d65ff21920e7899b7316ff121f0058d7e36/virtualenv/lib/python3.10/site-packages/transformers/models/gptj/modeling_gptj.py\", line 33, in <module>\n    from ...modeling_utils import PreTrainedModel\n  File \"/tmp/ray/session_2023-04-13_14-42-58_538184_8/runtime_resources/pip/9fc91d65ff21920e7899b7316ff121f0058d7e36/virtualenv/lib/python3.10/site-packages/transformers/modeling_utils.py\", line 83, in <module>\n    from accelerate import __version__ as accelerate_version\n  File \"/tmp/ray/session_2023-04-13_14-42-58_538184_8/runtime_resources/pip/9fc91d65ff21920e7899b7316ff121f0058d7e36/virtualenv/lib/python3.10/site-packages/accelerate/__init__.py\", line 3, in <module>\n    from .accelerator import Accelerator\n  File \"/tmp/ray/session_2023-04-13_14-42-58_538184_8/runtime_resources/pip/9fc91d65ff21920e7899b7316ff121f0058d7e36/virtualenv/lib/python3.10/site-packages/accelerate/accelerator.py\", line 31, in <module>\n    from .checkpointing import load_accelerator_state, load_custom_state, save_accelerator_state, save_custom_state\n  File \"/tmp/ray/session_2023-04-13_14-42-58_538184_8/runtime_resources/pip/9fc91d65ff21920e7899b7316ff121f0058d7e36/virtualenv/lib/python3.10/site-packages/accelerate/checkpointing.py\", line 24, in <module>\n    from .utils import (\n  File \"/tmp/ray/session_2023-04-13_14-42-58_538184_8/runtime_resources/pip/9fc91d65ff21920e7899b7316ff121f0058d7e36/virtualenv/lib/python3.10/site-packages/accelerate/utils/__init__.py\", line 106, in <module>\n    from .launch import (\n  File \"/tmp/ray/session_2023-04-13_14-42-58_538184_8/runtime_resources/pip/9fc91d65ff21920e7899b7316ff121f0058d7e36/virtualenv/lib/python3.10/site-packages/accelerate/utils/launch.py\", line 24, in <module>\n    from ..commands.config.config_args import SageMakerConfig\n  File \"/tmp/ray/session_2023-04-13_14-42-58_538184_8/runtime_resources/pip/9fc91d65ff21920e7899b7316ff121f0058d7e36/virtualenv/lib/python3.10/site-packages/accelerate/commands/config/__init__.py\", line 19, in <module>\n    from .config import config_command_parser\n  File \"/tmp/ray/session_2023-04-13_14-42-58_538184_8/runtime_resources/pip/9fc91d65ff21920e7899b7316ff121f0058d7e36/virtualenv/lib/python3.10/site-packages/accelerate/commands/config/config.py\", line 25, in <module>\n    from .sagemaker import get_sagemaker_input\n  File \"/tmp/ray/session_2023-04-13_14-42-58_538184_8/runtime_resources/pip/9fc91d65ff21920e7899b7316ff121f0058d7e36/virtualenv/lib/python3.10/site-packages/accelerate/commands/config/sagemaker.py\", line 35, in <module>\n    import boto3  # noqa: F401\n  File \"/home/ray/anaconda3/lib/python3.10/site-packages/boto3/__init__.py\", line 16, in <module>\n    from boto3.session import Session\n  File \"/home/ray/anaconda3/lib/python3.10/site-packages/boto3/session.py\", line 17, in <module>\n    import botocore.session\n  File \"/home/ray/anaconda3/lib/python3.10/site-packages/botocore/session.py\", line 25, in <module>\n    import botocore.configloader\n  File \"/home/ray/anaconda3/lib/python3.10/site-packages/botocore/configloader.py\", line 19, in <module>\n    from botocore.compat import six\n  File \"/home/ray/anaconda3/lib/python3.10/site-packages/botocore/compat.py\", line 25, in <module>\n    from botocore.exceptions import MD5UnavailableError\n  File \"/home/ray/anaconda3/lib/python3.10/site-packages/botocore/exceptions.py\", line 15, in <module>\n    from botocore.vendored.requests.exceptions import ConnectionError\n  File \"/home/ray/anaconda3/lib/python3.10/site-packages/botocore/vendored/requests/__init__.py\", line 58, in <module>\n    from . import utils\n  File \"/home/ray/anaconda3/lib/python3.10/site-packages/botocore/vendored/requests/utils.py\", line 26, in <module>\n    from .compat import parse_http_list as _parse_list_header\n  File \"/home/ray/anaconda3/lib/python3.10/site-packages/botocore/vendored/requests/compat.py\", line 7, in <module>\n    from .packages import chardet\n  File \"/home/ray/anaconda3/lib/python3.10/site-packages/botocore/vendored/requests/packages/__init__.py\", line 3, in <module>\n    from . import urllib3\n  File \"/home/ray/anaconda3/lib/python3.10/site-packages/botocore/vendored/requests/packages/urllib3/__init__.py\", line 10, in <module>\n    from .connectionpool import (\n  File \"/home/ray/anaconda3/lib/python3.10/site-packages/botocore/vendored/requests/packages/urllib3/connectionpool.py\", line 38, in <module>\n    from .response import HTTPResponse\n  File \"/home/ray/anaconda3/lib/python3.10/site-packages/botocore/vendored/requests/packages/urllib3/response.py\", line 9, in <module>\n    from ._collections import HTTPHeaderDict\n  File \"/home/ray/anaconda3/lib/python3.10/site-packages/botocore/vendored/requests/packages/urllib3/_collections.py\", line 1, in <module>\n    from collections import Mapping, MutableMapping\nImportError: cannot import name 'Mapping' from 'collections' (/home/ray/anaconda3/lib/python3.10/collections/__init__.py)\n\nThe above exception was the direct cause of the following exception:\n\n\u001b[36mray::_MapWorker.submit()\u001b[39m (pid=938, ip=10.8.5.4)\n  File \"/home/ray/anaconda3/lib/python3.10/site-packages/ray/data/_internal/execution/operators/actor_pool_map_operator.py\", line 272, in submit\n    yield from _map_task(fn, ctx, *blocks)\n  File \"/home/ray/anaconda3/lib/python3.10/site-packages/ray/data/_internal/execution/operators/map_operator.py\", line 351, in _map_task\n    for b_out in fn(iter(blocks), ctx):\n  File \"/opt/conda/lib/python3.10/site-packages/ray/data/_internal/execution/legacy_compat.py\", line 219, in do_map\n  File \"/opt/conda/lib/python3.10/site-packages/ray/data/_internal/planner/map_batches.py\", line 102, in fn\n  File \"/opt/conda/lib/python3.10/site-packages/ray/data/_internal/planner/map_batches.py\", line 66, in process_next_batch\n  File \"/opt/conda/lib/python3.10/site-packages/ray/data/_internal/execution/legacy_compat.py\", line 199, in fn\n  File \"/tmp/ipykernel_565/1521105933.py\", line 6, in __init__\n  File \"/tmp/ray/session_2023-04-13_14-42-58_538184_8/runtime_resources/pip/9fc91d65ff21920e7899b7316ff121f0058d7e36/virtualenv/lib/python3.10/site-packages/transformers/models/auto/auto_factory.py\", line 470, in from_pretrained\n    model_class = _get_model_class(config, cls._model_mapping)\n  File \"/tmp/ray/session_2023-04-13_14-42-58_538184_8/runtime_resources/pip/9fc91d65ff21920e7899b7316ff121f0058d7e36/virtualenv/lib/python3.10/site-packages/transformers/models/auto/auto_factory.py\", line 360, in _get_model_class\n    supported_models = model_mapping[type(config)]\n  File \"/tmp/ray/session_2023-04-13_14-42-58_538184_8/runtime_resources/pip/9fc91d65ff21920e7899b7316ff121f0058d7e36/virtualenv/lib/python3.10/site-packages/transformers/models/auto/auto_factory.py\", line 602, in __getitem__\n    return self._load_attr_from_module(model_type, model_name)\n  File \"/tmp/ray/session_2023-04-13_14-42-58_538184_8/runtime_resources/pip/9fc91d65ff21920e7899b7316ff121f0058d7e36/virtualenv/lib/python3.10/site-packages/transformers/models/auto/auto_factory.py\", line 616, in _load_attr_from_module\n    return getattribute_from_module(self._modules[module_name], attr)\n  File \"/tmp/ray/session_2023-04-13_14-42-58_538184_8/runtime_resources/pip/9fc91d65ff21920e7899b7316ff121f0058d7e36/virtualenv/lib/python3.10/site-packages/transformers/models/auto/auto_factory.py\", line 561, in getattribute_from_module\n    if hasattr(module, attr):\n  File \"/tmp/ray/session_2023-04-13_14-42-58_538184_8/runtime_resources/pip/9fc91d65ff21920e7899b7316ff121f0058d7e36/virtualenv/lib/python3.10/site-packages/transformers/utils/import_utils.py\", line 1136, in __getattr__\n    module = self._get_module(self._class_to_module[name])\n  File \"/tmp/ray/session_2023-04-13_14-42-58_538184_8/runtime_resources/pip/9fc91d65ff21920e7899b7316ff121f0058d7e36/virtualenv/lib/python3.10/site-packages/transformers/utils/import_utils.py\", line 1148, in _get_module\n    raise RuntimeError(\nRuntimeError: Failed to import transformers.models.gptj.modeling_gptj because of the following error (look up to see its traceback):\ncannot import name 'Mapping' from 'collections' (/home/ray/anaconda3/lib/python3.10/collections/__init__.py)",
     "output_type": "error",
     "traceback": [
      "\u001b[0;31m---------------------------------------------------------------------------\u001b[0m",
      "\u001b[0;31mRayTaskError(RuntimeError)\u001b[0m                Traceback (most recent call last)",
      "Cell \u001b[0;32mIn[7], line 1\u001b[0m\n\u001b[0;32m----> 1\u001b[0m \u001b[43mpreds\u001b[49m\u001b[38;5;241;43m.\u001b[39;49m\u001b[43mtake_all\u001b[49m\u001b[43m(\u001b[49m\u001b[43m)\u001b[49m\n",
      "File \u001b[0;32m/opt/conda/lib/python3.10/site-packages/ray/data/dataset.py:2157\u001b[0m, in \u001b[0;36mDataset.take_all\u001b[0;34m(self, limit)\u001b[0m\n\u001b[1;32m   2142\u001b[0m \u001b[38;5;250m\u001b[39m\u001b[38;5;124;03m\"\"\"Return all of the records in the dataset.\u001b[39;00m\n\u001b[1;32m   2143\u001b[0m \n\u001b[1;32m   2144\u001b[0m \u001b[38;5;124;03mThis will move the entire dataset to the caller's machine; if the\u001b[39;00m\n\u001b[0;32m   (...)\u001b[0m\n\u001b[1;32m   2154\u001b[0m \u001b[38;5;124;03m    A list of all the records in the dataset.\u001b[39;00m\n\u001b[1;32m   2155\u001b[0m \u001b[38;5;124;03m\"\"\"\u001b[39;00m\n\u001b[1;32m   2156\u001b[0m output \u001b[38;5;241m=\u001b[39m []\n\u001b[0;32m-> 2157\u001b[0m \u001b[38;5;28;01mfor\u001b[39;00m row \u001b[38;5;129;01min\u001b[39;00m \u001b[38;5;28mself\u001b[39m\u001b[38;5;241m.\u001b[39miter_rows():\n\u001b[1;32m   2158\u001b[0m     output\u001b[38;5;241m.\u001b[39mappend(row)\n\u001b[1;32m   2159\u001b[0m     \u001b[38;5;28;01mif\u001b[39;00m limit \u001b[38;5;129;01mis\u001b[39;00m \u001b[38;5;129;01mnot\u001b[39;00m \u001b[38;5;28;01mNone\u001b[39;00m \u001b[38;5;129;01mand\u001b[39;00m \u001b[38;5;28mlen\u001b[39m(output) \u001b[38;5;241m>\u001b[39m limit:\n",
      "File \u001b[0;32m/opt/conda/lib/python3.10/site-packages/ray/data/dataset.py:2776\u001b[0m, in \u001b[0;36mDataset.iter_rows\u001b[0;34m(self, prefetch_blocks)\u001b[0m\n\u001b[1;32m   2774\u001b[0m \u001b[38;5;28;01melse\u001b[39;00m:\n\u001b[1;32m   2775\u001b[0m     \u001b[38;5;28;01mtry\u001b[39;00m:\n\u001b[0;32m-> 2776\u001b[0m         dataset_format \u001b[38;5;241m=\u001b[39m \u001b[38;5;28;43mself\u001b[39;49m\u001b[38;5;241;43m.\u001b[39;49m\u001b[43mdataset_format\u001b[49m\u001b[43m(\u001b[49m\u001b[43m)\u001b[49m\n\u001b[1;32m   2777\u001b[0m     \u001b[38;5;28;01mexcept\u001b[39;00m \u001b[38;5;167;01mValueError\u001b[39;00m:\n\u001b[1;32m   2778\u001b[0m         \u001b[38;5;66;03m# Dataset is empty or cleared, so fall back to \"default\".\u001b[39;00m\n\u001b[1;32m   2779\u001b[0m         batch_format \u001b[38;5;241m=\u001b[39m \u001b[38;5;124m\"\u001b[39m\u001b[38;5;124mdefault\u001b[39m\u001b[38;5;124m\"\u001b[39m\n",
      "File \u001b[0;32m/opt/conda/lib/python3.10/site-packages/ray/data/dataset.py:4226\u001b[0m, in \u001b[0;36mDataset.dataset_format\u001b[0;34m(self)\u001b[0m\n\u001b[1;32m   4218\u001b[0m \u001b[38;5;250m\u001b[39m\u001b[38;5;124;03m\"\"\"The format of the dataset's underlying data blocks. Possible values\u001b[39;00m\n\u001b[1;32m   4219\u001b[0m \u001b[38;5;124;03mare: \"arrow\", \"pandas\" and \"simple\".\u001b[39;00m\n\u001b[1;32m   4220\u001b[0m \n\u001b[1;32m   4221\u001b[0m \u001b[38;5;124;03mThis may block; if the schema is unknown, this will synchronously fetch\u001b[39;00m\n\u001b[1;32m   4222\u001b[0m \u001b[38;5;124;03mthe schema for the first block.\u001b[39;00m\n\u001b[1;32m   4223\u001b[0m \u001b[38;5;124;03m\"\"\"\u001b[39;00m\n\u001b[1;32m   4224\u001b[0m \u001b[38;5;66;03m# We need schema to properly validate, so synchronously\u001b[39;00m\n\u001b[1;32m   4225\u001b[0m \u001b[38;5;66;03m# fetch it if necessary.\u001b[39;00m\n\u001b[0;32m-> 4226\u001b[0m schema \u001b[38;5;241m=\u001b[39m \u001b[38;5;28;43mself\u001b[39;49m\u001b[38;5;241;43m.\u001b[39;49m\u001b[43mschema\u001b[49m\u001b[43m(\u001b[49m\u001b[43mfetch_if_missing\u001b[49m\u001b[38;5;241;43m=\u001b[39;49m\u001b[38;5;28;43;01mTrue\u001b[39;49;00m\u001b[43m)\u001b[49m\n\u001b[1;32m   4227\u001b[0m \u001b[38;5;28;01mif\u001b[39;00m schema \u001b[38;5;129;01mis\u001b[39;00m \u001b[38;5;28;01mNone\u001b[39;00m:\n\u001b[1;32m   4228\u001b[0m     \u001b[38;5;28;01mraise\u001b[39;00m \u001b[38;5;167;01mValueError\u001b[39;00m(\n\u001b[1;32m   4229\u001b[0m         \u001b[38;5;124m\"\u001b[39m\u001b[38;5;124mDataset is empty or cleared, can\u001b[39m\u001b[38;5;124m'\u001b[39m\u001b[38;5;124mt determine the format of \u001b[39m\u001b[38;5;124m\"\u001b[39m\n\u001b[1;32m   4230\u001b[0m         \u001b[38;5;124m\"\u001b[39m\u001b[38;5;124mthe dataset.\u001b[39m\u001b[38;5;124m\"\u001b[39m\n\u001b[1;32m   4231\u001b[0m     )\n",
      "File \u001b[0;32m/opt/conda/lib/python3.10/site-packages/ray/data/dataset.py:2234\u001b[0m, in \u001b[0;36mDataset.schema\u001b[0;34m(self, fetch_if_missing)\u001b[0m\n\u001b[1;32m   2209\u001b[0m \u001b[38;5;129m@ConsumptionAPI\u001b[39m(\n\u001b[1;32m   2210\u001b[0m     if_more_than_read\u001b[38;5;241m=\u001b[39m\u001b[38;5;28;01mTrue\u001b[39;00m,\n\u001b[1;32m   2211\u001b[0m     datasource_metadata\u001b[38;5;241m=\u001b[39m\u001b[38;5;124m\"\u001b[39m\u001b[38;5;124mschema\u001b[39m\u001b[38;5;124m\"\u001b[39m,\n\u001b[0;32m   (...)\u001b[0m\n\u001b[1;32m   2216\u001b[0m     \u001b[38;5;28mself\u001b[39m, fetch_if_missing: \u001b[38;5;28mbool\u001b[39m \u001b[38;5;241m=\u001b[39m \u001b[38;5;28;01mTrue\u001b[39;00m\n\u001b[1;32m   2217\u001b[0m ) \u001b[38;5;241m-\u001b[39m\u001b[38;5;241m>\u001b[39m Union[\u001b[38;5;28mtype\u001b[39m, \u001b[38;5;124m\"\u001b[39m\u001b[38;5;124mpyarrow.lib.Schema\u001b[39m\u001b[38;5;124m\"\u001b[39m]:\n\u001b[1;32m   2218\u001b[0m \u001b[38;5;250m    \u001b[39m\u001b[38;5;124;03m\"\"\"Return the schema of the dataset.\u001b[39;00m\n\u001b[1;32m   2219\u001b[0m \n\u001b[1;32m   2220\u001b[0m \u001b[38;5;124;03m    For datasets of Arrow records, this will return the Arrow schema.\u001b[39;00m\n\u001b[0;32m   (...)\u001b[0m\n\u001b[1;32m   2232\u001b[0m \u001b[38;5;124;03m        schema is not known and fetch_if_missing is False.\u001b[39;00m\n\u001b[1;32m   2233\u001b[0m \u001b[38;5;124;03m    \"\"\"\u001b[39;00m\n\u001b[0;32m-> 2234\u001b[0m     \u001b[38;5;28;01mreturn\u001b[39;00m \u001b[38;5;28;43mself\u001b[39;49m\u001b[38;5;241;43m.\u001b[39;49m\u001b[43m_plan\u001b[49m\u001b[38;5;241;43m.\u001b[39;49m\u001b[43mschema\u001b[49m\u001b[43m(\u001b[49m\u001b[43mfetch_if_missing\u001b[49m\u001b[38;5;241;43m=\u001b[39;49m\u001b[43mfetch_if_missing\u001b[49m\u001b[43m)\u001b[49m\n",
      "File \u001b[0;32m/opt/conda/lib/python3.10/site-packages/ray/data/_internal/plan.py:360\u001b[0m, in \u001b[0;36mExecutionPlan.schema\u001b[0;34m(self, fetch_if_missing)\u001b[0m\n\u001b[1;32m    358\u001b[0m             \u001b[38;5;28mself\u001b[39m\u001b[38;5;241m.\u001b[39m_stages_after_snapshot\u001b[38;5;241m.\u001b[39mappend(a)\n\u001b[1;32m    359\u001b[0m     \u001b[38;5;28;01melse\u001b[39;00m:\n\u001b[0;32m--> 360\u001b[0m         \u001b[38;5;28;43mself\u001b[39;49m\u001b[38;5;241;43m.\u001b[39;49m\u001b[43mexecute\u001b[49m\u001b[43m(\u001b[49m\u001b[43m)\u001b[49m\n\u001b[1;32m    361\u001b[0m \u001b[38;5;28;01melif\u001b[39;00m \u001b[38;5;28mlen\u001b[39m(\u001b[38;5;28mself\u001b[39m\u001b[38;5;241m.\u001b[39m_stages_after_snapshot) \u001b[38;5;241m==\u001b[39m \u001b[38;5;241m1\u001b[39m \u001b[38;5;129;01mand\u001b[39;00m \u001b[38;5;28misinstance\u001b[39m(\n\u001b[1;32m    362\u001b[0m     \u001b[38;5;28mself\u001b[39m\u001b[38;5;241m.\u001b[39m_stages_after_snapshot[\u001b[38;5;241m-\u001b[39m\u001b[38;5;241m1\u001b[39m], RandomizeBlocksStage\n\u001b[1;32m    363\u001b[0m ):\n\u001b[1;32m    364\u001b[0m     \u001b[38;5;66;03m# If RandomizeBlocksStage is last stage, we execute it (regardless of\u001b[39;00m\n\u001b[1;32m    365\u001b[0m     \u001b[38;5;66;03m# the fetch_if_missing), since RandomizeBlocksStage is just changing\u001b[39;00m\n\u001b[1;32m    366\u001b[0m     \u001b[38;5;66;03m# the order of references (hence super cheap).\u001b[39;00m\n\u001b[1;32m    367\u001b[0m     \u001b[38;5;28mself\u001b[39m\u001b[38;5;241m.\u001b[39mexecute()\n",
      "File \u001b[0;32m/opt/conda/lib/python3.10/site-packages/ray/data/_internal/plan.py:539\u001b[0m, in \u001b[0;36mExecutionPlan.execute\u001b[0;34m(self, allow_clear_input_blocks, force_read)\u001b[0m\n\u001b[1;32m    534\u001b[0m \u001b[38;5;28;01mfrom\u001b[39;00m \u001b[38;5;21;01mray\u001b[39;00m\u001b[38;5;21;01m.\u001b[39;00m\u001b[38;5;21;01mdata\u001b[39;00m\u001b[38;5;21;01m.\u001b[39;00m\u001b[38;5;21;01m_internal\u001b[39;00m\u001b[38;5;21;01m.\u001b[39;00m\u001b[38;5;21;01mexecution\u001b[39;00m\u001b[38;5;21;01m.\u001b[39;00m\u001b[38;5;21;01mlegacy_compat\u001b[39;00m \u001b[38;5;28;01mimport\u001b[39;00m (\n\u001b[1;32m    535\u001b[0m     execute_to_legacy_block_list,\n\u001b[1;32m    536\u001b[0m )\n\u001b[1;32m    538\u001b[0m executor \u001b[38;5;241m=\u001b[39m BulkExecutor(copy\u001b[38;5;241m.\u001b[39mdeepcopy(context\u001b[38;5;241m.\u001b[39mexecution_options))\n\u001b[0;32m--> 539\u001b[0m blocks \u001b[38;5;241m=\u001b[39m \u001b[43mexecute_to_legacy_block_list\u001b[49m\u001b[43m(\u001b[49m\n\u001b[1;32m    540\u001b[0m \u001b[43m    \u001b[49m\u001b[43mexecutor\u001b[49m\u001b[43m,\u001b[49m\n\u001b[1;32m    541\u001b[0m \u001b[43m    \u001b[49m\u001b[38;5;28;43mself\u001b[39;49m\u001b[43m,\u001b[49m\n\u001b[1;32m    542\u001b[0m \u001b[43m    \u001b[49m\u001b[43mallow_clear_input_blocks\u001b[49m\u001b[38;5;241;43m=\u001b[39;49m\u001b[43mallow_clear_input_blocks\u001b[49m\u001b[43m,\u001b[49m\n\u001b[1;32m    543\u001b[0m \u001b[43m    \u001b[49m\u001b[43mdataset_uuid\u001b[49m\u001b[38;5;241;43m=\u001b[39;49m\u001b[38;5;28;43mself\u001b[39;49m\u001b[38;5;241;43m.\u001b[39;49m\u001b[43m_dataset_uuid\u001b[49m\u001b[43m,\u001b[49m\n\u001b[1;32m    544\u001b[0m \u001b[43m\u001b[49m\u001b[43m)\u001b[49m\n\u001b[1;32m    545\u001b[0m \u001b[38;5;66;03m# TODO(ekl) we shouldn't need to set this in the future once we move\u001b[39;00m\n\u001b[1;32m    546\u001b[0m \u001b[38;5;66;03m# to a fully lazy execution model, unless .cache() is used. The reason\u001b[39;00m\n\u001b[1;32m    547\u001b[0m \u001b[38;5;66;03m# we need it right now is since the user may iterate over a Dataset\u001b[39;00m\n\u001b[1;32m    548\u001b[0m \u001b[38;5;66;03m# multiple times after fully executing it once.\u001b[39;00m\n\u001b[1;32m    549\u001b[0m \u001b[38;5;28;01mif\u001b[39;00m \u001b[38;5;129;01mnot\u001b[39;00m \u001b[38;5;28mself\u001b[39m\u001b[38;5;241m.\u001b[39m_run_by_consumer:\n",
      "File \u001b[0;32m/opt/conda/lib/python3.10/site-packages/ray/data/_internal/execution/legacy_compat.py:84\u001b[0m, in \u001b[0;36mexecute_to_legacy_block_list\u001b[0;34m(executor, plan, allow_clear_input_blocks, dataset_uuid)\u001b[0m\n\u001b[1;32m     82\u001b[0m \u001b[38;5;28;01melse\u001b[39;00m:\n\u001b[1;32m     83\u001b[0m     dag, stats \u001b[38;5;241m=\u001b[39m _to_operator_dag(plan, allow_clear_input_blocks)\n\u001b[0;32m---> 84\u001b[0m bundles \u001b[38;5;241m=\u001b[39m \u001b[43mexecutor\u001b[49m\u001b[38;5;241;43m.\u001b[39;49m\u001b[43mexecute\u001b[49m\u001b[43m(\u001b[49m\u001b[43mdag\u001b[49m\u001b[43m,\u001b[49m\u001b[43m \u001b[49m\u001b[43minitial_stats\u001b[49m\u001b[38;5;241;43m=\u001b[39;49m\u001b[43mstats\u001b[49m\u001b[43m)\u001b[49m\n\u001b[1;32m     85\u001b[0m _set_stats_uuid_recursive(executor\u001b[38;5;241m.\u001b[39mget_stats(), dataset_uuid)\n\u001b[1;32m     86\u001b[0m \u001b[38;5;28;01mreturn\u001b[39;00m _bundles_to_block_list(bundles)\n",
      "File \u001b[0;32m/opt/conda/lib/python3.10/site-packages/ray/data/_internal/execution/bulk_executor.py:82\u001b[0m, in \u001b[0;36mBulkExecutor.execute\u001b[0;34m(self, dag, initial_stats)\u001b[0m\n\u001b[1;32m     77\u001b[0m     logger\u001b[38;5;241m.\u001b[39mget_logger(log_to_stdout\u001b[38;5;241m=\u001b[39mcontext\u001b[38;5;241m.\u001b[39menable_auto_log_stats)\u001b[38;5;241m.\u001b[39minfo(\n\u001b[1;32m     78\u001b[0m         stats_summary_string,\n\u001b[1;32m     79\u001b[0m     )\n\u001b[1;32m     80\u001b[0m     \u001b[38;5;28;01mreturn\u001b[39;00m output\n\u001b[0;32m---> 82\u001b[0m \u001b[38;5;28;01mreturn\u001b[39;00m \u001b[43mexecute_recursive\u001b[49m\u001b[43m(\u001b[49m\u001b[43mdag\u001b[49m\u001b[43m)\u001b[49m\n",
      "File \u001b[0;32m/opt/conda/lib/python3.10/site-packages/ray/data/_internal/execution/bulk_executor.py:63\u001b[0m, in \u001b[0;36mBulkExecutor.execute.<locals>.execute_recursive\u001b[0;34m(op)\u001b[0m\n\u001b[1;32m     61\u001b[0m             op\u001b[38;5;241m.\u001b[39madd_input(r, input_index\u001b[38;5;241m=\u001b[39mi)\n\u001b[1;32m     62\u001b[0m     op\u001b[38;5;241m.\u001b[39minputs_done()\n\u001b[0;32m---> 63\u001b[0m     output \u001b[38;5;241m=\u001b[39m \u001b[43m_naive_run_until_complete\u001b[49m\u001b[43m(\u001b[49m\u001b[43mop\u001b[49m\u001b[43m)\u001b[49m\n\u001b[1;32m     64\u001b[0m \u001b[38;5;28;01mfinally\u001b[39;00m:\n\u001b[1;32m     65\u001b[0m     op\u001b[38;5;241m.\u001b[39mshutdown()\n",
      "File \u001b[0;32m/opt/conda/lib/python3.10/site-packages/ray/data/_internal/execution/bulk_executor.py:106\u001b[0m, in \u001b[0;36m_naive_run_until_complete\u001b[0;34m(op)\u001b[0m\n\u001b[1;32m    102\u001b[0m done, _ \u001b[38;5;241m=\u001b[39m ray\u001b[38;5;241m.\u001b[39mwait(\n\u001b[1;32m    103\u001b[0m     tasks, num_returns\u001b[38;5;241m=\u001b[39m\u001b[38;5;28mlen\u001b[39m(tasks), fetch_local\u001b[38;5;241m=\u001b[39m\u001b[38;5;28;01mTrue\u001b[39;00m, timeout\u001b[38;5;241m=\u001b[39m\u001b[38;5;241m0.1\u001b[39m\n\u001b[1;32m    104\u001b[0m )\n\u001b[1;32m    105\u001b[0m \u001b[38;5;28;01mfor\u001b[39;00m ready \u001b[38;5;129;01min\u001b[39;00m done:\n\u001b[0;32m--> 106\u001b[0m     \u001b[43mop\u001b[49m\u001b[38;5;241;43m.\u001b[39;49m\u001b[43mnotify_work_completed\u001b[49m\u001b[43m(\u001b[49m\u001b[43mready\u001b[49m\u001b[43m)\u001b[49m\n\u001b[1;32m    107\u001b[0m tasks \u001b[38;5;241m=\u001b[39m op\u001b[38;5;241m.\u001b[39mget_work_refs()\n\u001b[1;32m    108\u001b[0m \u001b[38;5;28;01mwhile\u001b[39;00m op\u001b[38;5;241m.\u001b[39mhas_next():\n",
      "File \u001b[0;32m/opt/conda/lib/python3.10/site-packages/ray/data/_internal/execution/operators/actor_pool_map_operator.py:160\u001b[0m, in \u001b[0;36mActorPoolMapOperator.notify_work_completed\u001b[0;34m(self, ref)\u001b[0m\n\u001b[1;32m    157\u001b[0m \u001b[38;5;28;01mif\u001b[39;00m ref \u001b[38;5;129;01min\u001b[39;00m \u001b[38;5;28mself\u001b[39m\u001b[38;5;241m.\u001b[39m_tasks:\n\u001b[1;32m    158\u001b[0m     \u001b[38;5;66;03m# Get task state and set output.\u001b[39;00m\n\u001b[1;32m    159\u001b[0m     task, actor \u001b[38;5;241m=\u001b[39m \u001b[38;5;28mself\u001b[39m\u001b[38;5;241m.\u001b[39m_tasks\u001b[38;5;241m.\u001b[39mpop(ref)\n\u001b[0;32m--> 160\u001b[0m     task\u001b[38;5;241m.\u001b[39moutput \u001b[38;5;241m=\u001b[39m \u001b[38;5;28;43mself\u001b[39;49m\u001b[38;5;241;43m.\u001b[39;49m\u001b[43m_map_ref_to_ref_bundle\u001b[49m\u001b[43m(\u001b[49m\u001b[43mref\u001b[49m\u001b[43m)\u001b[49m\n\u001b[1;32m    161\u001b[0m     \u001b[38;5;28mself\u001b[39m\u001b[38;5;241m.\u001b[39m_handle_task_done(task)\n\u001b[1;32m    162\u001b[0m     \u001b[38;5;66;03m# Return the actor that was running the task to the pool.\u001b[39;00m\n",
      "File \u001b[0;32m/opt/conda/lib/python3.10/site-packages/ray/data/_internal/execution/operators/map_operator.py:296\u001b[0m, in \u001b[0;36mMapOperator._map_ref_to_ref_bundle\u001b[0;34m(***failed resolving arguments***)\u001b[0m\n\u001b[1;32m    294\u001b[0m \u001b[38;5;28;01mdel\u001b[39;00m ref\n\u001b[1;32m    295\u001b[0m block_refs \u001b[38;5;241m=\u001b[39m all_refs[:\u001b[38;5;241m-\u001b[39m\u001b[38;5;241m1\u001b[39m]\n\u001b[0;32m--> 296\u001b[0m block_metas \u001b[38;5;241m=\u001b[39m \u001b[43mray\u001b[49m\u001b[38;5;241;43m.\u001b[39;49m\u001b[43mget\u001b[49m\u001b[43m(\u001b[49m\u001b[43mall_refs\u001b[49m\u001b[43m[\u001b[49m\u001b[38;5;241;43m-\u001b[39;49m\u001b[38;5;241;43m1\u001b[39;49m\u001b[43m]\u001b[49m\u001b[43m)\u001b[49m\n\u001b[1;32m    297\u001b[0m \u001b[38;5;28;01massert\u001b[39;00m \u001b[38;5;28mlen\u001b[39m(block_metas) \u001b[38;5;241m==\u001b[39m \u001b[38;5;28mlen\u001b[39m(block_refs), (block_refs, block_metas)\n\u001b[1;32m    298\u001b[0m \u001b[38;5;28;01mfor\u001b[39;00m ref \u001b[38;5;129;01min\u001b[39;00m block_refs:\n",
      "File \u001b[0;32m/opt/conda/lib/python3.10/site-packages/ray/_private/client_mode_hook.py:104\u001b[0m, in \u001b[0;36mclient_mode_hook.<locals>.wrapper\u001b[0;34m(*args, **kwargs)\u001b[0m\n\u001b[1;32m    100\u001b[0m \u001b[38;5;28;01mif\u001b[39;00m client_mode_should_convert(auto_init\u001b[38;5;241m=\u001b[39mauto_init):\n\u001b[1;32m    101\u001b[0m     \u001b[38;5;66;03m# Legacy code\u001b[39;00m\n\u001b[1;32m    102\u001b[0m     \u001b[38;5;66;03m# we only convert init function if RAY_CLIENT_MODE=1\u001b[39;00m\n\u001b[1;32m    103\u001b[0m     \u001b[38;5;28;01mif\u001b[39;00m func\u001b[38;5;241m.\u001b[39m\u001b[38;5;18m__name__\u001b[39m \u001b[38;5;241m!=\u001b[39m \u001b[38;5;124m\"\u001b[39m\u001b[38;5;124minit\u001b[39m\u001b[38;5;124m\"\u001b[39m \u001b[38;5;129;01mor\u001b[39;00m is_client_mode_enabled_by_default:\n\u001b[0;32m--> 104\u001b[0m         \u001b[38;5;28;01mreturn\u001b[39;00m \u001b[38;5;28;43mgetattr\u001b[39;49m\u001b[43m(\u001b[49m\u001b[43mray\u001b[49m\u001b[43m,\u001b[49m\u001b[43m \u001b[49m\u001b[43mfunc\u001b[49m\u001b[38;5;241;43m.\u001b[39;49m\u001b[38;5;18;43m__name__\u001b[39;49m\u001b[43m)\u001b[49m\u001b[43m(\u001b[49m\u001b[38;5;241;43m*\u001b[39;49m\u001b[43margs\u001b[49m\u001b[43m,\u001b[49m\u001b[43m \u001b[49m\u001b[38;5;241;43m*\u001b[39;49m\u001b[38;5;241;43m*\u001b[39;49m\u001b[43mkwargs\u001b[49m\u001b[43m)\u001b[49m\n\u001b[1;32m    105\u001b[0m \u001b[38;5;28;01mreturn\u001b[39;00m func(\u001b[38;5;241m*\u001b[39margs, \u001b[38;5;241m*\u001b[39m\u001b[38;5;241m*\u001b[39mkwargs)\n",
      "File \u001b[0;32m/opt/conda/lib/python3.10/site-packages/ray/util/client/api.py:42\u001b[0m, in \u001b[0;36m_ClientAPI.get\u001b[0;34m(self, vals, timeout)\u001b[0m\n\u001b[1;32m     35\u001b[0m \u001b[38;5;28;01mdef\u001b[39;00m \u001b[38;5;21mget\u001b[39m(\u001b[38;5;28mself\u001b[39m, vals, \u001b[38;5;241m*\u001b[39m, timeout\u001b[38;5;241m=\u001b[39m\u001b[38;5;28;01mNone\u001b[39;00m):\n\u001b[1;32m     36\u001b[0m \u001b[38;5;250m    \u001b[39m\u001b[38;5;124;03m\"\"\"get is the hook stub passed on to replace `ray.get`\u001b[39;00m\n\u001b[1;32m     37\u001b[0m \n\u001b[1;32m     38\u001b[0m \u001b[38;5;124;03m    Args:\u001b[39;00m\n\u001b[1;32m     39\u001b[0m \u001b[38;5;124;03m        vals: [Client]ObjectRef or list of these refs to retrieve.\u001b[39;00m\n\u001b[1;32m     40\u001b[0m \u001b[38;5;124;03m        timeout: Optional timeout in milliseconds\u001b[39;00m\n\u001b[1;32m     41\u001b[0m \u001b[38;5;124;03m    \"\"\"\u001b[39;00m\n\u001b[0;32m---> 42\u001b[0m     \u001b[38;5;28;01mreturn\u001b[39;00m \u001b[38;5;28;43mself\u001b[39;49m\u001b[38;5;241;43m.\u001b[39;49m\u001b[43mworker\u001b[49m\u001b[38;5;241;43m.\u001b[39;49m\u001b[43mget\u001b[49m\u001b[43m(\u001b[49m\u001b[43mvals\u001b[49m\u001b[43m,\u001b[49m\u001b[43m \u001b[49m\u001b[43mtimeout\u001b[49m\u001b[38;5;241;43m=\u001b[39;49m\u001b[43mtimeout\u001b[49m\u001b[43m)\u001b[49m\n",
      "File \u001b[0;32m/opt/conda/lib/python3.10/site-packages/ray/util/client/worker.py:434\u001b[0m, in \u001b[0;36mWorker.get\u001b[0;34m(self, vals, timeout)\u001b[0m\n\u001b[1;32m    432\u001b[0m     op_timeout \u001b[38;5;241m=\u001b[39m max_blocking_operation_time\n\u001b[1;32m    433\u001b[0m \u001b[38;5;28;01mtry\u001b[39;00m:\n\u001b[0;32m--> 434\u001b[0m     res \u001b[38;5;241m=\u001b[39m \u001b[38;5;28;43mself\u001b[39;49m\u001b[38;5;241;43m.\u001b[39;49m\u001b[43m_get\u001b[49m\u001b[43m(\u001b[49m\u001b[43mto_get\u001b[49m\u001b[43m,\u001b[49m\u001b[43m \u001b[49m\u001b[43mop_timeout\u001b[49m\u001b[43m)\u001b[49m\n\u001b[1;32m    435\u001b[0m     \u001b[38;5;28;01mbreak\u001b[39;00m\n\u001b[1;32m    436\u001b[0m \u001b[38;5;28;01mexcept\u001b[39;00m GetTimeoutError:\n",
      "File \u001b[0;32m/opt/conda/lib/python3.10/site-packages/ray/util/client/worker.py:462\u001b[0m, in \u001b[0;36mWorker._get\u001b[0;34m(self, ref, timeout)\u001b[0m\n\u001b[1;32m    460\u001b[0m         logger\u001b[38;5;241m.\u001b[39mexception(\u001b[38;5;124m\"\u001b[39m\u001b[38;5;124mFailed to deserialize \u001b[39m\u001b[38;5;132;01m{}\u001b[39;00m\u001b[38;5;124m\"\u001b[39m\u001b[38;5;241m.\u001b[39mformat(chunk\u001b[38;5;241m.\u001b[39merror))\n\u001b[1;32m    461\u001b[0m         \u001b[38;5;28;01mraise\u001b[39;00m\n\u001b[0;32m--> 462\u001b[0m     \u001b[38;5;28;01mraise\u001b[39;00m err\n\u001b[1;32m    463\u001b[0m \u001b[38;5;28;01mif\u001b[39;00m chunk\u001b[38;5;241m.\u001b[39mtotal_size \u001b[38;5;241m>\u001b[39m OBJECT_TRANSFER_WARNING_SIZE \u001b[38;5;129;01mand\u001b[39;00m log_once(\n\u001b[1;32m    464\u001b[0m     \u001b[38;5;124m\"\u001b[39m\u001b[38;5;124mclient_object_transfer_size_warning\u001b[39m\u001b[38;5;124m\"\u001b[39m\n\u001b[1;32m    465\u001b[0m ):\n\u001b[1;32m    466\u001b[0m     size_gb \u001b[38;5;241m=\u001b[39m chunk\u001b[38;5;241m.\u001b[39mtotal_size \u001b[38;5;241m/\u001b[39m \u001b[38;5;241m2\u001b[39m\u001b[38;5;241m*\u001b[39m\u001b[38;5;241m*\u001b[39m\u001b[38;5;241m30\u001b[39m\n",
      "\u001b[0;31mRayTaskError(RuntimeError)\u001b[0m: \u001b[36mray::_MapWorker.submit()\u001b[39m (pid=938, ip=10.8.5.4)\n  File \"/tmp/ray/session_2023-04-13_14-42-58_538184_8/runtime_resources/pip/9fc91d65ff21920e7899b7316ff121f0058d7e36/virtualenv/lib/python3.10/site-packages/transformers/utils/import_utils.py\", line 1146, in _get_module\n    return importlib.import_module(\".\" + module_name, self.__name__)\n  File \"/home/ray/anaconda3/lib/python3.10/importlib/__init__.py\", line 126, in import_module\n    return _bootstrap._gcd_import(name[level:], package, level)\n  File \"<frozen importlib._bootstrap>\", line 1050, in _gcd_import\n  File \"<frozen importlib._bootstrap>\", line 1027, in _find_and_load\n  File \"<frozen importlib._bootstrap>\", line 1006, in _find_and_load_unlocked\n  File \"<frozen importlib._bootstrap>\", line 688, in _load_unlocked\n  File \"<frozen importlib._bootstrap_external>\", line 883, in exec_module\n  File \"<frozen importlib._bootstrap>\", line 241, in _call_with_frames_removed\n  File \"/tmp/ray/session_2023-04-13_14-42-58_538184_8/runtime_resources/pip/9fc91d65ff21920e7899b7316ff121f0058d7e36/virtualenv/lib/python3.10/site-packages/transformers/models/gptj/modeling_gptj.py\", line 33, in <module>\n    from ...modeling_utils import PreTrainedModel\n  File \"/tmp/ray/session_2023-04-13_14-42-58_538184_8/runtime_resources/pip/9fc91d65ff21920e7899b7316ff121f0058d7e36/virtualenv/lib/python3.10/site-packages/transformers/modeling_utils.py\", line 83, in <module>\n    from accelerate import __version__ as accelerate_version\n  File \"/tmp/ray/session_2023-04-13_14-42-58_538184_8/runtime_resources/pip/9fc91d65ff21920e7899b7316ff121f0058d7e36/virtualenv/lib/python3.10/site-packages/accelerate/__init__.py\", line 3, in <module>\n    from .accelerator import Accelerator\n  File \"/tmp/ray/session_2023-04-13_14-42-58_538184_8/runtime_resources/pip/9fc91d65ff21920e7899b7316ff121f0058d7e36/virtualenv/lib/python3.10/site-packages/accelerate/accelerator.py\", line 31, in <module>\n    from .checkpointing import load_accelerator_state, load_custom_state, save_accelerator_state, save_custom_state\n  File \"/tmp/ray/session_2023-04-13_14-42-58_538184_8/runtime_resources/pip/9fc91d65ff21920e7899b7316ff121f0058d7e36/virtualenv/lib/python3.10/site-packages/accelerate/checkpointing.py\", line 24, in <module>\n    from .utils import (\n  File \"/tmp/ray/session_2023-04-13_14-42-58_538184_8/runtime_resources/pip/9fc91d65ff21920e7899b7316ff121f0058d7e36/virtualenv/lib/python3.10/site-packages/accelerate/utils/__init__.py\", line 106, in <module>\n    from .launch import (\n  File \"/tmp/ray/session_2023-04-13_14-42-58_538184_8/runtime_resources/pip/9fc91d65ff21920e7899b7316ff121f0058d7e36/virtualenv/lib/python3.10/site-packages/accelerate/utils/launch.py\", line 24, in <module>\n    from ..commands.config.config_args import SageMakerConfig\n  File \"/tmp/ray/session_2023-04-13_14-42-58_538184_8/runtime_resources/pip/9fc91d65ff21920e7899b7316ff121f0058d7e36/virtualenv/lib/python3.10/site-packages/accelerate/commands/config/__init__.py\", line 19, in <module>\n    from .config import config_command_parser\n  File \"/tmp/ray/session_2023-04-13_14-42-58_538184_8/runtime_resources/pip/9fc91d65ff21920e7899b7316ff121f0058d7e36/virtualenv/lib/python3.10/site-packages/accelerate/commands/config/config.py\", line 25, in <module>\n    from .sagemaker import get_sagemaker_input\n  File \"/tmp/ray/session_2023-04-13_14-42-58_538184_8/runtime_resources/pip/9fc91d65ff21920e7899b7316ff121f0058d7e36/virtualenv/lib/python3.10/site-packages/accelerate/commands/config/sagemaker.py\", line 35, in <module>\n    import boto3  # noqa: F401\n  File \"/home/ray/anaconda3/lib/python3.10/site-packages/boto3/__init__.py\", line 16, in <module>\n    from boto3.session import Session\n  File \"/home/ray/anaconda3/lib/python3.10/site-packages/boto3/session.py\", line 17, in <module>\n    import botocore.session\n  File \"/home/ray/anaconda3/lib/python3.10/site-packages/botocore/session.py\", line 25, in <module>\n    import botocore.configloader\n  File \"/home/ray/anaconda3/lib/python3.10/site-packages/botocore/configloader.py\", line 19, in <module>\n    from botocore.compat import six\n  File \"/home/ray/anaconda3/lib/python3.10/site-packages/botocore/compat.py\", line 25, in <module>\n    from botocore.exceptions import MD5UnavailableError\n  File \"/home/ray/anaconda3/lib/python3.10/site-packages/botocore/exceptions.py\", line 15, in <module>\n    from botocore.vendored.requests.exceptions import ConnectionError\n  File \"/home/ray/anaconda3/lib/python3.10/site-packages/botocore/vendored/requests/__init__.py\", line 58, in <module>\n    from . import utils\n  File \"/home/ray/anaconda3/lib/python3.10/site-packages/botocore/vendored/requests/utils.py\", line 26, in <module>\n    from .compat import parse_http_list as _parse_list_header\n  File \"/home/ray/anaconda3/lib/python3.10/site-packages/botocore/vendored/requests/compat.py\", line 7, in <module>\n    from .packages import chardet\n  File \"/home/ray/anaconda3/lib/python3.10/site-packages/botocore/vendored/requests/packages/__init__.py\", line 3, in <module>\n    from . import urllib3\n  File \"/home/ray/anaconda3/lib/python3.10/site-packages/botocore/vendored/requests/packages/urllib3/__init__.py\", line 10, in <module>\n    from .connectionpool import (\n  File \"/home/ray/anaconda3/lib/python3.10/site-packages/botocore/vendored/requests/packages/urllib3/connectionpool.py\", line 38, in <module>\n    from .response import HTTPResponse\n  File \"/home/ray/anaconda3/lib/python3.10/site-packages/botocore/vendored/requests/packages/urllib3/response.py\", line 9, in <module>\n    from ._collections import HTTPHeaderDict\n  File \"/home/ray/anaconda3/lib/python3.10/site-packages/botocore/vendored/requests/packages/urllib3/_collections.py\", line 1, in <module>\n    from collections import Mapping, MutableMapping\nImportError: cannot import name 'Mapping' from 'collections' (/home/ray/anaconda3/lib/python3.10/collections/__init__.py)\n\nThe above exception was the direct cause of the following exception:\n\n\u001b[36mray::_MapWorker.submit()\u001b[39m (pid=938, ip=10.8.5.4)\n  File \"/home/ray/anaconda3/lib/python3.10/site-packages/ray/data/_internal/execution/operators/actor_pool_map_operator.py\", line 272, in submit\n    yield from _map_task(fn, ctx, *blocks)\n  File \"/home/ray/anaconda3/lib/python3.10/site-packages/ray/data/_internal/execution/operators/map_operator.py\", line 351, in _map_task\n    for b_out in fn(iter(blocks), ctx):\n  File \"/opt/conda/lib/python3.10/site-packages/ray/data/_internal/execution/legacy_compat.py\", line 219, in do_map\n  File \"/opt/conda/lib/python3.10/site-packages/ray/data/_internal/planner/map_batches.py\", line 102, in fn\n  File \"/opt/conda/lib/python3.10/site-packages/ray/data/_internal/planner/map_batches.py\", line 66, in process_next_batch\n  File \"/opt/conda/lib/python3.10/site-packages/ray/data/_internal/execution/legacy_compat.py\", line 199, in fn\n  File \"/tmp/ipykernel_565/1521105933.py\", line 6, in __init__\n  File \"/tmp/ray/session_2023-04-13_14-42-58_538184_8/runtime_resources/pip/9fc91d65ff21920e7899b7316ff121f0058d7e36/virtualenv/lib/python3.10/site-packages/transformers/models/auto/auto_factory.py\", line 470, in from_pretrained\n    model_class = _get_model_class(config, cls._model_mapping)\n  File \"/tmp/ray/session_2023-04-13_14-42-58_538184_8/runtime_resources/pip/9fc91d65ff21920e7899b7316ff121f0058d7e36/virtualenv/lib/python3.10/site-packages/transformers/models/auto/auto_factory.py\", line 360, in _get_model_class\n    supported_models = model_mapping[type(config)]\n  File \"/tmp/ray/session_2023-04-13_14-42-58_538184_8/runtime_resources/pip/9fc91d65ff21920e7899b7316ff121f0058d7e36/virtualenv/lib/python3.10/site-packages/transformers/models/auto/auto_factory.py\", line 602, in __getitem__\n    return self._load_attr_from_module(model_type, model_name)\n  File \"/tmp/ray/session_2023-04-13_14-42-58_538184_8/runtime_resources/pip/9fc91d65ff21920e7899b7316ff121f0058d7e36/virtualenv/lib/python3.10/site-packages/transformers/models/auto/auto_factory.py\", line 616, in _load_attr_from_module\n    return getattribute_from_module(self._modules[module_name], attr)\n  File \"/tmp/ray/session_2023-04-13_14-42-58_538184_8/runtime_resources/pip/9fc91d65ff21920e7899b7316ff121f0058d7e36/virtualenv/lib/python3.10/site-packages/transformers/models/auto/auto_factory.py\", line 561, in getattribute_from_module\n    if hasattr(module, attr):\n  File \"/tmp/ray/session_2023-04-13_14-42-58_538184_8/runtime_resources/pip/9fc91d65ff21920e7899b7316ff121f0058d7e36/virtualenv/lib/python3.10/site-packages/transformers/utils/import_utils.py\", line 1136, in __getattr__\n    module = self._get_module(self._class_to_module[name])\n  File \"/tmp/ray/session_2023-04-13_14-42-58_538184_8/runtime_resources/pip/9fc91d65ff21920e7899b7316ff121f0058d7e36/virtualenv/lib/python3.10/site-packages/transformers/utils/import_utils.py\", line 1148, in _get_module\n    raise RuntimeError(\nRuntimeError: Failed to import transformers.models.gptj.modeling_gptj because of the following error (look up to see its traceback):\ncannot import name 'Mapping' from 'collections' (/home/ray/anaconda3/lib/python3.10/collections/__init__.py)"
     ]
    }
   ],
   "source": [
    "preds.take_all()"
   ]
  },
  {
   "cell_type": "code",
   "execution_count": null,
   "id": "6245a68e-fbd3-491e-a058-a1be1ae91234",
   "metadata": {},
   "outputs": [],
   "source": []
  }
 ],
 "metadata": {
  "kernelspec": {
   "display_name": "Python 3 (ipykernel)",
   "language": "python",
   "name": "python3"
  },
  "language_info": {
   "codemirror_mode": {
    "name": "ipython",
    "version": 3
   },
   "file_extension": ".py",
   "mimetype": "text/x-python",
   "name": "python",
   "nbconvert_exporter": "python",
   "pygments_lexer": "ipython3",
   "version": "3.10.10"
  }
 },
 "nbformat": 4,
 "nbformat_minor": 5
}
