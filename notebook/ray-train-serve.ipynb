{
 "cells": [
  {
   "cell_type": "code",
   "execution_count": null,
   "id": "158f0b8d-0028-4357-95c9-4ae307de7f9e",
   "metadata": {},
   "outputs": [],
   "source": [
    "import numpy as np\n",
    "import tensorflow as tf\n",
    "import json\n",
    "import os\n",
    "import requests\n",
    "import tempfile\n",
    "import time\n",
    "\n",
    "from ray.train import Trainer\n",
    "from ray import serve\n",
    "import ray"
   ]
  },
  {
   "cell_type": "code",
   "execution_count": null,
   "id": "2303e1c7-97bf-4f68-ad02-b20c206b1d7e",
   "metadata": {},
   "outputs": [],
   "source": [
    "TRAINED_MODEL_PATH = os.path.join(tempfile.gettempdir(), \"mnist_model.h5\")\n",
    "\n",
    "@serve.deployment(route_prefix=\"/mnist\")\n",
    "class TFMnistModel:\n",
    "    def __init__(self, model_path):\n",
    "        import tensorflow as tf\n",
    "        self.model_path = model_path\n",
    "        self.model = tf.keras.models.load_model(model_path)\n",
    "\n",
    "    async def __call__(self, starlette_request):\n",
    "        # Step 1: transform HTTP request -> tensorflow input\n",
    "        # Here we define the request schema to be a json array.\n",
    "        input_array = np.array((await starlette_request.json())[\"array\"])\n",
    "        reshaped_array = input_array.reshape((1, 28, 28))\n",
    "\n",
    "        # Step 2: tensorflow input -> tensorflow output\n",
    "        prediction = self.model(reshaped_array)\n",
    "\n",
    "        # Step 3: tensorflow output -> web output\n",
    "        return {\n",
    "            \"prediction\": prediction.numpy().tolist(),\n",
    "            \"file\": self.model_path\n",
    "        }\n"
   ]
  },
  {
   "cell_type": "code",
   "execution_count": null,
   "id": "18475d27-a3a5-4592-a979-8a020eeaf9ca",
   "metadata": {},
   "outputs": [],
   "source": [
    "def mnist_dataset(batch_size):\n",
    "    (x_train, y_train), _ = tf.keras.datasets.mnist.load_data()\n",
    "    # The `x` arrays are in uint8 and have values in the [0, 255] range.\n",
    "    # You need to convert them to float32 with values in the [0, 1] range.\n",
    "    x_train = x_train / np.float32(255)\n",
    "    y_train = y_train.astype(np.int64)\n",
    "    train_dataset = tf.data.Dataset.from_tensor_slices(\n",
    "        (x_train, y_train)).shuffle(60000).repeat().batch(batch_size)\n",
    "    return x_train, y_train, train_dataset\n",
    "\n",
    "\n",
    "def build_and_compile_cnn_model():\n",
    "    model = tf.keras.Sequential([\n",
    "        tf.keras.layers.InputLayer(input_shape=(28, 28)),\n",
    "        tf.keras.layers.Reshape(target_shape=(28, 28, 1)),\n",
    "        tf.keras.layers.Conv2D(32, 3, activation='relu'),\n",
    "        tf.keras.layers.Flatten(),\n",
    "        tf.keras.layers.Dense(128, activation='relu'),\n",
    "        tf.keras.layers.Dense(10)\n",
    "    ])\n",
    "    model.compile(\n",
    "        loss=tf.keras.losses.SparseCategoricalCrossentropy(from_logits=True),\n",
    "        optimizer=tf.keras.optimizers.SGD(learning_rate=0.001),\n",
    "        metrics=['accuracy'])\n",
    "    return model\n",
    "\n",
    "\n",
    "def train_func_distributed():\n",
    "    per_worker_batch_size = 64\n",
    "    # This environment variable will be set by Ray Train.\n",
    "    tf_config = json.loads(os.environ['TF_CONFIG'])\n",
    "    num_workers = len(tf_config['cluster']['worker'])\n",
    "\n",
    "    strategy = tf.distribute.MultiWorkerMirroredStrategy()\n",
    "\n",
    "    global_batch_size = per_worker_batch_size * num_workers\n",
    "    x_test, y_test, multi_worker_dataset = mnist_dataset(global_batch_size)\n",
    "\n",
    "    with strategy.scope():\n",
    "        # Model building/compiling need to be within `strategy.scope()`.\n",
    "        multi_worker_model = build_and_compile_cnn_model()\n",
    "\n",
    "    multi_worker_model.fit(multi_worker_dataset, epochs=3, steps_per_epoch=70)\n",
    "\n",
    "    #multi_worker_model.evaluate(x_test, y_test, verbose=2)\n",
    "    multi_worker_model.summary()\n",
    "\n",
    "    # Save the model in h5 format in local file system\n",
    "    multi_worker_model.save(TRAINED_MODEL_PATH)"
   ]
  },
  {
   "cell_type": "code",
   "execution_count": null,
   "id": "e035bb59-434c-490e-bb5e-db852cc7fe35",
   "metadata": {},
   "outputs": [],
   "source": [
    "ray.init(\"ray://example-cluster-head-svc:10001\")"
   ]
  },
  {
   "cell_type": "code",
   "execution_count": null,
   "id": "92347732-3151-4520-8f0b-efc5b61da7f9",
   "metadata": {},
   "outputs": [],
   "source": [
    "trainer = Trainer(backend=\"tensorflow\", num_workers=4) #, use_gpu=True)\n",
    "trainer.start()\n",
    "results = trainer.run(train_func_distributed)\n",
    "trainer.shutdown()"
   ]
  },
  {
   "cell_type": "code",
   "execution_count": null,
   "id": "843a3b83-2f3e-4f26-b8de-0b853beadbf9",
   "metadata": {},
   "outputs": [],
   "source": [
    "#serve.start(detached=True)\n",
    "serve.start(detached=True, http_options={\"host\": \"0.0.0.0\"})\n",
    "TFMnistModel.deploy(TRAINED_MODEL_PATH)"
   ]
  },
  {
   "cell_type": "code",
   "execution_count": null,
   "id": "f1479282-db79-47de-a8df-16a5e6df957d",
   "metadata": {},
   "outputs": [],
   "source": []
  }
 ],
 "metadata": {
  "kernelspec": {
   "display_name": "Python 3",
   "language": "python",
   "name": "python3"
  },
  "language_info": {
   "codemirror_mode": {
    "name": "ipython",
    "version": 3
   },
   "file_extension": ".py",
   "mimetype": "text/x-python",
   "name": "python",
   "nbconvert_exporter": "python",
   "pygments_lexer": "ipython3",
   "version": "3.7.10"
  }
 },
 "nbformat": 4,
 "nbformat_minor": 5
}
