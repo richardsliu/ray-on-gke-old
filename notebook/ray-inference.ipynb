{
 "cells": [
  {
   "cell_type": "code",
   "execution_count": null,
   "id": "158f0b8d-0028-4357-95c9-4ae307de7f9e",
   "metadata": {},
   "outputs": [],
   "source": [
    "from typing import Sequence\n",
    "\n",
    "from absl import app\n",
    "import numpy as np\n",
    "import requests"
   ]
  },
  {
   "cell_type": "code",
   "execution_count": null,
   "id": "2303e1c7-97bf-4f68-ad02-b20c206b1d7e",
   "metadata": {},
   "outputs": [],
   "source": [
    "resp = requests.get(\n",
    "      \"http://example-cluster-head-svc:8000/mnist\",\n",
    "      json={\"array\": np.random.randn(28 * 28).tolist()})\n",
    "\n",
    "print(resp.json())"
   ]
  },
  {
   "cell_type": "code",
   "execution_count": null,
   "id": "6913680b-eb7f-4097-b44d-1e6338bae80b",
   "metadata": {},
   "outputs": [],
   "source": []
  }
 ],
 "metadata": {
  "kernelspec": {
   "display_name": "Python 3",
   "language": "python",
   "name": "python3"
  },
  "language_info": {
   "codemirror_mode": {
    "name": "ipython",
    "version": 3
   },
   "file_extension": ".py",
   "mimetype": "text/x-python",
   "name": "python",
   "nbconvert_exporter": "python",
   "pygments_lexer": "ipython3",
   "version": "3.7.10"
  }
 },
 "nbformat": 4,
 "nbformat_minor": 5
}
